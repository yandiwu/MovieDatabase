{
    "metadata": {
        "kernelspec": {
            "name": "SQL",
            "display_name": "SQL",
            "language": "sql"
        },
        "language_info": {
            "name": "sql",
            "version": ""
        }
    },
    "nbformat_minor": 2,
    "nbformat": 4,
    "cells": [
        {
            "cell_type": "markdown",
            "source": [
                "# **IMDb Top 400 Movies Analysis** \n",
                "\n",
                "First, we select the top 5 columns of the IMDB Top 400 table to see what the table looks like."
            ],
            "metadata": {
                "language": "sql",
                "azdata_cell_guid": "cfe94e7f-bea5-4ba0-8bd6-946d816c9ecc"
            },
            "attachments": {}
        },
        {
            "cell_type": "code",
            "source": [
                "SELECT TOP 5 * FROM MoviesDB.dbo.IMDBtop400;"
            ],
            "metadata": {
                "azdata_cell_guid": "aab87ddc-4d76-4a15-b8a9-896a447bc241",
                "language": "sql"
            },
            "outputs": [
                {
                    "output_type": "display_data",
                    "data": {
                        "text/html": "(5 rows affected)"
                    },
                    "metadata": {}
                },
                {
                    "output_type": "display_data",
                    "data": {
                        "text/html": "Total execution time: 00:00:00.010"
                    },
                    "metadata": {}
                },
                {
                    "output_type": "execute_result",
                    "execution_count": 51,
                    "data": {
                        "application/vnd.dataresource+json": {
                            "schema": {
                                "fields": [
                                    {
                                        "name": "Title"
                                    },
                                    {
                                        "name": "Certificate"
                                    },
                                    {
                                        "name": "Duration"
                                    },
                                    {
                                        "name": "Genre"
                                    },
                                    {
                                        "name": "Rate"
                                    },
                                    {
                                        "name": "Metascore"
                                    },
                                    {
                                        "name": "Description"
                                    },
                                    {
                                        "name": "Cast"
                                    },
                                    {
                                        "name": "Info"
                                    },
                                    {
                                        "name": "Country_of_Origin"
                                    },
                                    {
                                        "name": "Language"
                                    }
                                ]
                            },
                            "data": [
                                {
                                    "0": "1. The Shawshank Redemption (1994)",
                                    "1": "R",
                                    "2": "142 min",
                                    "3": "Drama",
                                    "4": "9.3",
                                    "5": "80",
                                    "6": "Two imprisoned men bond over a number of years, finding solace and eventual redemption through acts of common decency.",
                                    "7": "Director: Frank Darabont | Stars: Tim Robbins, Morgan Freeman, Bob Gunton, William Sadler",
                                    "8": "Votes: 2,295,987 | Gross: $28.34M",
                                    "9": "USA",
                                    "10": "English"
                                },
                                {
                                    "0": "2. The Godfather (1972)",
                                    "1": "R",
                                    "2": "175 min",
                                    "3": "Crime, Drama",
                                    "4": "9.2",
                                    "5": "100",
                                    "6": "The aging patriarch of an organized crime dynasty transfers control of his clandestine empire to his reluctant son.",
                                    "7": "Director: Francis Ford Coppola | Stars: Marlon Brando, Al Pacino, James Caan, Diane Keaton",
                                    "8": "Votes: 1,584,782 | Gross: $134.97M",
                                    "9": "USA",
                                    "10": "English"
                                },
                                {
                                    "0": "3. The Dark Knight (2008)",
                                    "1": "PG-13",
                                    "2": "152 min",
                                    "3": "Action, Crime, Drama",
                                    "4": "9",
                                    "5": "84",
                                    "6": "When the menace known as the Joker wreaks havoc and chaos on the people of Gotham, Batman must accept one of the greatest psychological and physical tests of his ability to fight injustice.",
                                    "7": "Director: Christopher Nolan | Stars: Christian Bale, Heath Ledger, Aaron Eckhart, Michael Caine",
                                    "8": "Votes: 2,260,649 | Gross: $534.86M",
                                    "9": "USA",
                                    "10": "English"
                                },
                                {
                                    "0": "4. The Godfather: Part II (1974)",
                                    "1": "R",
                                    "2": "202 min",
                                    "3": "Crime, Drama",
                                    "4": "9",
                                    "5": "90",
                                    "6": "The early life and career of Vito Corleone in 1920s New York City is portrayed, while his son, Michael, expands and tightens his grip on the family crime syndicate.",
                                    "7": "Director: Francis Ford Coppola | Stars: Al Pacino, Robert De Niro, Robert Duvall, Diane Keaton",
                                    "8": "Votes: 1,107,253 | Gross: $57.30M",
                                    "9": "USA",
                                    "10": "English"
                                },
                                {
                                    "0": "5. The Lord of the Rings: The Return of the King (2003)",
                                    "1": "PG-13",
                                    "2": "201 min",
                                    "3": "Action, Adventure, Drama",
                                    "4": "8.9",
                                    "5": "94",
                                    "6": "Gandalf and Aragorn lead the World of Men against Sauron's army to draw his gaze from Frodo and Sam as they approach Mount Doom with the One Ring.",
                                    "7": "Director: Peter Jackson | Stars: Elijah Wood, Viggo Mortensen, Ian McKellen, Orlando Bloom",
                                    "8": "Votes: 1,614,369 | Gross: $377.85M",
                                    "9": "USA",
                                    "10": "English"
                                }
                            ]
                        },
                        "text/html": "<table><tr><th>Title</th><th>Certificate</th><th>Duration</th><th>Genre</th><th>Rate</th><th>Metascore</th><th>Description</th><th>Cast</th><th>Info</th><th>Country_of_Origin</th><th>Language</th></tr><tr><td>1. The Shawshank Redemption (1994)</td><td>R</td><td>142 min</td><td>Drama</td><td>9.3</td><td>80</td><td>Two imprisoned men bond over a number of years, finding solace and eventual redemption through acts of common decency.</td><td>Director: Frank Darabont | Stars: Tim Robbins, Morgan Freeman, Bob Gunton, William Sadler</td><td>Votes: 2,295,987 | Gross: $28.34M</td><td>USA</td><td>English</td></tr><tr><td>2. The Godfather (1972)</td><td>R</td><td>175 min</td><td>Crime, Drama</td><td>9.2</td><td>100</td><td>The aging patriarch of an organized crime dynasty transfers control of his clandestine empire to his reluctant son.</td><td>Director: Francis Ford Coppola | Stars: Marlon Brando, Al Pacino, James Caan, Diane Keaton</td><td>Votes: 1,584,782 | Gross: $134.97M</td><td>USA</td><td>English</td></tr><tr><td>3. The Dark Knight (2008)</td><td>PG-13</td><td>152 min</td><td>Action, Crime, Drama</td><td>9</td><td>84</td><td>When the menace known as the Joker wreaks havoc and chaos on the people of Gotham, Batman must accept one of the greatest psychological and physical tests of his ability to fight injustice.</td><td>Director: Christopher Nolan | Stars: Christian Bale, Heath Ledger, Aaron Eckhart, Michael Caine</td><td>Votes: 2,260,649 | Gross: $534.86M</td><td>USA</td><td>English</td></tr><tr><td>4. The Godfather: Part II (1974)</td><td>R</td><td>202 min</td><td>Crime, Drama</td><td>9</td><td>90</td><td>The early life and career of Vito Corleone in 1920s New York City is portrayed, while his son, Michael, expands and tightens his grip on the family crime syndicate.</td><td>Director: Francis Ford Coppola | Stars: Al Pacino, Robert De Niro, Robert Duvall, Diane Keaton</td><td>Votes: 1,107,253 | Gross: $57.30M</td><td>USA</td><td>English</td></tr><tr><td>5. The Lord of the Rings: The Return of the King (2003)</td><td>PG-13</td><td>201 min</td><td>Action, Adventure, Drama</td><td>8.9</td><td>94</td><td>Gandalf and Aragorn lead the World of Men against Sauron's army to draw his gaze from Frodo and Sam as they approach Mount Doom with the One Ring.</td><td>Director: Peter Jackson | Stars: Elijah Wood, Viggo Mortensen, Ian McKellen, Orlando Bloom</td><td>Votes: 1,614,369 | Gross: $377.85M</td><td>USA</td><td>English</td></tr></table>"
                    },
                    "metadata": {}
                }
            ],
            "execution_count": 51
        },
        {
            "cell_type": "markdown",
            "source": [
                "Here's a description of the various columns in the table:\n",
                "\n",
                "1. **Title**/ranking: the title and ranking of the film;\n",
                "    \n",
                "2. **Certificate**: MPAA rating (NC-17: no one under 17 admitted, R: restricted, PG: parental guidance, PG-13, Approved: appropriate for all audiences). Many earlier films are also unrated; \n",
                "    \n",
                "3. **Duration**: length of the film;\n",
                "    \n",
                "4. **Genre**: the genre(s) of the film (most films have multiple dramas); \n",
                "    \n",
                "5. **Rate**: IMDb rating (out of 10), the average of all the IMDb user ratings; \n",
                "    \n",
                "6. **Metascore**: Metacritic score (out of 100), a weighted score based on popularity, stature, and volume of reviews; \n",
                "    \n",
                "7. **Cast**: director and actors of the film (original dataset does not separate the two, so we will have to); \n",
                "    \n",
                "8. **Info**: the total number of votes submitted by IMDb users, and box office gross in USD; \n",
                "    \n",
                "9. **Country\\_of\\_Origin**: I added this column after extensive googling; main country of production; some movies were a coproduction between multiple countries. While some movies (like _Das Boot_) were produced in West Germany, I decided to consider West Germany as Germany to consolidate my data. However, I decided to keep the now extinct country the Soviet Union because the country had so many member countries that I had no information about which member country produced the movie.  I also considered Hong Kong and China to be two different countries (and British Hong Kong and the UK to be different as well). \n",
                "    \n",
                "10. **Language**: language(s) of the original release of the movie."
            ],
            "metadata": {
                "language": "sql",
                "azdata_cell_guid": "3f89549f-8dd8-42fb-9ef0-bf7f7aeee2bd"
            },
            "attachments": {}
        },
        {
            "cell_type": "markdown",
            "source": [
                "# **Data Cleanup**\n",
                "\n",
                "First, we need to clean the data to make processing it easier. The first thing I noticed was the data was missing two rows in the 199 and 200th spots, which I replaced."
            ],
            "metadata": {
                "language": "sql",
                "azdata_cell_guid": "4e5363bb-8e7d-45a0-a67e-d96ad00240c0"
            },
            "attachments": {}
        },
        {
            "cell_type": "code",
            "source": [
                "--REPLACE MISSING ROWS \n",
                "INSERT INTO MoviesDB.dbo.IMDBtop400 (Title, Certificate, Duration, Genre, Rate, Metascore, Description, Cast, Info, Country_of_Origin, Language) \n",
                "VALUES (N'199. Z (1969)', N'PG', N'127 min', N'Crime,Drama,Thriller', 8.2, 86, N'The public murder of a prominent politician and doctor amid a violent demonstration is covered up by military and government officials. A tenacious magistrate is determined not to let them get away with it.',\n",
                "N'Director: Costa-Gavras | Stars: Yves Montand,Irene Papas,Jean-Louis Trintignant,François Perier', N'Votes: 29,372 | Gross: $0.08M', N'Algeria', N'French'),\n",
                "(N'200. Dersu Uzala (1975)', N'Approved', N'142 min', N'Adventure, Biography, Drama', 8.2, NULL, \n",
                "N'The Russian army sends an explorer on an expedition to the snowy Siberian wilderness where he makes friends with a seasoned local hunter.',\n",
                "N'Director: Akira Kurosawa | Stars: Maksim Munzuk, Yuriy Solomin, Mikhail Bychkov, Vladimir Khrulyov', 'Votes: 30,641 | Gross: $1.2M', N'Soviet Union, Japan', N'Russian');"
            ],
            "metadata": {
                "language": "sql",
                "azdata_cell_guid": "3bf3d5d9-75ee-4c39-b72c-4b49a5bc6e54",
                "tags": []
            },
            "outputs": [
                {
                    "output_type": "display_data",
                    "data": {
                        "text/html": "(2 rows affected)"
                    },
                    "metadata": {}
                },
                {
                    "output_type": "display_data",
                    "data": {
                        "text/html": "Total execution time: 00:00:00.016"
                    },
                    "metadata": {}
                }
            ],
            "execution_count": 82
        },
        {
            "cell_type": "markdown",
            "source": [
                "I also decided to get rid of the spaces between commas, which will make analysis easier later when I apply substring searches."
            ],
            "metadata": {
                "language": "sql",
                "azdata_cell_guid": "a0946be6-d280-4a72-bbfe-6118eed6f8a4"
            },
            "attachments": {}
        },
        {
            "cell_type": "code",
            "source": [
                "UPDATE MoviesDB.dbo.IMDBtop400\n",
                "SET Genre = REPLACE(Genre, ', ', ','), \n",
                "Country_of_Origin = REPLACE(Country_of_Origin, ', ', ','),\n",
                "Language = REPLACE(Language, ', ', ','),\n",
                "Cast = REPLACE(Cast, ', ', ',');"
            ],
            "metadata": {
                "language": "sql",
                "azdata_cell_guid": "e173a318-6f1f-4451-9d1f-03380a420ddc"
            },
            "outputs": [
                {
                    "output_type": "display_data",
                    "data": {
                        "text/html": "(400 rows affected)"
                    },
                    "metadata": {}
                },
                {
                    "output_type": "display_data",
                    "data": {
                        "text/html": "Total execution time: 00:00:00.046"
                    },
                    "metadata": {}
                }
            ],
            "execution_count": 84
        },
        {
            "cell_type": "code",
            "source": [
                "UPDATE MoviesDB.dbo.IMDBtop400\n",
                "SET Country_of_Origin = REPLACE(Country_of_Origin, 'Portuguese', 'Brazil'),\n",
                "Language = REPLACE(Language, 'Brazil', 'Portuguese')\n",
                "WHERE Title = '344. Elite Squad 2: The Enemy Within (2010)'; "
            ],
            "metadata": {
                "language": "sql",
                "azdata_cell_guid": "7a27aa24-0a55-4ec0-9c70-cc2707708511"
            },
            "outputs": [
                {
                    "output_type": "display_data",
                    "data": {
                        "text/html": "(1 row affected)"
                    },
                    "metadata": {}
                },
                {
                    "output_type": "display_data",
                    "data": {
                        "text/html": "Total execution time: 00:00:00.010"
                    },
                    "metadata": {}
                }
            ],
            "execution_count": 93
        },
        {
            "cell_type": "markdown",
            "source": [
                "Displaying the table will show that the spaces between commas are indeed now gone."
            ],
            "metadata": {
                "language": "sql",
                "azdata_cell_guid": "b16f47f4-a2bd-43ba-994a-fbd025dbd63c"
            },
            "attachments": {}
        },
        {
            "cell_type": "code",
            "source": [
                "SELECT TOP 5 * FROM MoviesDB.dbo.IMDBtop400; "
            ],
            "metadata": {
                "language": "sql",
                "azdata_cell_guid": "692ff362-c57b-4c95-a97b-b0ce7ba3dbe1"
            },
            "outputs": [
                {
                    "output_type": "display_data",
                    "data": {
                        "text/html": "(5 rows affected)"
                    },
                    "metadata": {}
                },
                {
                    "output_type": "display_data",
                    "data": {
                        "text/html": "Total execution time: 00:00:00.010"
                    },
                    "metadata": {}
                },
                {
                    "output_type": "execute_result",
                    "metadata": {},
                    "execution_count": 86,
                    "data": {
                        "application/vnd.dataresource+json": {
                            "schema": {
                                "fields": [
                                    {
                                        "name": "Title"
                                    },
                                    {
                                        "name": "Certificate"
                                    },
                                    {
                                        "name": "Duration"
                                    },
                                    {
                                        "name": "Genre"
                                    },
                                    {
                                        "name": "Rate"
                                    },
                                    {
                                        "name": "Metascore"
                                    },
                                    {
                                        "name": "Description"
                                    },
                                    {
                                        "name": "Cast"
                                    },
                                    {
                                        "name": "Info"
                                    },
                                    {
                                        "name": "Country_of_Origin"
                                    },
                                    {
                                        "name": "Language"
                                    }
                                ]
                            },
                            "data": [
                                {
                                    "0": "1. The Shawshank Redemption (1994)",
                                    "1": "R",
                                    "2": "142 min",
                                    "3": "Drama",
                                    "4": "9.3",
                                    "5": "80",
                                    "6": "Two imprisoned men bond over a number of years, finding solace and eventual redemption through acts of common decency.",
                                    "7": "Director: Frank Darabont | Stars: Tim Robbins,Morgan Freeman,Bob Gunton,William Sadler",
                                    "8": "Votes: 2,295,987 | Gross: $28.34M",
                                    "9": "USA",
                                    "10": "English"
                                },
                                {
                                    "0": "2. The Godfather (1972)",
                                    "1": "R",
                                    "2": "175 min",
                                    "3": "Crime,Drama",
                                    "4": "9.2",
                                    "5": "100",
                                    "6": "The aging patriarch of an organized crime dynasty transfers control of his clandestine empire to his reluctant son.",
                                    "7": "Director: Francis Ford Coppola | Stars: Marlon Brando,Al Pacino,James Caan,Diane Keaton",
                                    "8": "Votes: 1,584,782 | Gross: $134.97M",
                                    "9": "USA",
                                    "10": "English"
                                },
                                {
                                    "0": "3. The Dark Knight (2008)",
                                    "1": "PG-13",
                                    "2": "152 min",
                                    "3": "Action,Crime,Drama",
                                    "4": "9",
                                    "5": "84",
                                    "6": "When the menace known as the Joker wreaks havoc and chaos on the people of Gotham, Batman must accept one of the greatest psychological and physical tests of his ability to fight injustice.",
                                    "7": "Director: Christopher Nolan | Stars: Christian Bale,Heath Ledger,Aaron Eckhart,Michael Caine",
                                    "8": "Votes: 2,260,649 | Gross: $534.86M",
                                    "9": "USA",
                                    "10": "English"
                                },
                                {
                                    "0": "4. The Godfather: Part II (1974)",
                                    "1": "R",
                                    "2": "202 min",
                                    "3": "Crime,Drama",
                                    "4": "9",
                                    "5": "90",
                                    "6": "The early life and career of Vito Corleone in 1920s New York City is portrayed, while his son, Michael, expands and tightens his grip on the family crime syndicate.",
                                    "7": "Director: Francis Ford Coppola | Stars: Al Pacino,Robert De Niro,Robert Duvall,Diane Keaton",
                                    "8": "Votes: 1,107,253 | Gross: $57.30M",
                                    "9": "USA",
                                    "10": "English"
                                },
                                {
                                    "0": "5. The Lord of the Rings: The Return of the King (2003)",
                                    "1": "PG-13",
                                    "2": "201 min",
                                    "3": "Action,Adventure,Drama",
                                    "4": "8.9",
                                    "5": "94",
                                    "6": "Gandalf and Aragorn lead the World of Men against Sauron's army to draw his gaze from Frodo and Sam as they approach Mount Doom with the One Ring.",
                                    "7": "Director: Peter Jackson | Stars: Elijah Wood,Viggo Mortensen,Ian McKellen,Orlando Bloom",
                                    "8": "Votes: 1,614,369 | Gross: $377.85M",
                                    "9": "USA",
                                    "10": "English"
                                }
                            ]
                        },
                        "text/html": [
                            "<table>",
                            "<tr><th>Title</th><th>Certificate</th><th>Duration</th><th>Genre</th><th>Rate</th><th>Metascore</th><th>Description</th><th>Cast</th><th>Info</th><th>Country_of_Origin</th><th>Language</th></tr>",
                            "<tr><td>1. The Shawshank Redemption (1994)</td><td>R</td><td>142 min</td><td>Drama</td><td>9.3</td><td>80</td><td>Two imprisoned men bond over a number of years, finding solace and eventual redemption through acts of common decency.</td><td>Director: Frank Darabont | Stars: Tim Robbins,Morgan Freeman,Bob Gunton,William Sadler</td><td>Votes: 2,295,987 | Gross: $28.34M</td><td>USA</td><td>English</td></tr>",
                            "<tr><td>2. The Godfather (1972)</td><td>R</td><td>175 min</td><td>Crime,Drama</td><td>9.2</td><td>100</td><td>The aging patriarch of an organized crime dynasty transfers control of his clandestine empire to his reluctant son.</td><td>Director: Francis Ford Coppola | Stars: Marlon Brando,Al Pacino,James Caan,Diane Keaton</td><td>Votes: 1,584,782 | Gross: $134.97M</td><td>USA</td><td>English</td></tr>",
                            "<tr><td>3. The Dark Knight (2008)</td><td>PG-13</td><td>152 min</td><td>Action,Crime,Drama</td><td>9</td><td>84</td><td>When the menace known as the Joker wreaks havoc and chaos on the people of Gotham, Batman must accept one of the greatest psychological and physical tests of his ability to fight injustice.</td><td>Director: Christopher Nolan | Stars: Christian Bale,Heath Ledger,Aaron Eckhart,Michael Caine</td><td>Votes: 2,260,649 | Gross: $534.86M</td><td>USA</td><td>English</td></tr>",
                            "<tr><td>4. The Godfather: Part II (1974)</td><td>R</td><td>202 min</td><td>Crime,Drama</td><td>9</td><td>90</td><td>The early life and career of Vito Corleone in 1920s New York City is portrayed, while his son, Michael, expands and tightens his grip on the family crime syndicate.</td><td>Director: Francis Ford Coppola | Stars: Al Pacino,Robert De Niro,Robert Duvall,Diane Keaton</td><td>Votes: 1,107,253 | Gross: $57.30M</td><td>USA</td><td>English</td></tr>",
                            "<tr><td>5. The Lord of the Rings: The Return of the King (2003)</td><td>PG-13</td><td>201 min</td><td>Action,Adventure,Drama</td><td>8.9</td><td>94</td><td>Gandalf and Aragorn lead the World of Men against Sauron's army to draw his gaze from Frodo and Sam as they approach Mount Doom with the One Ring.</td><td>Director: Peter Jackson | Stars: Elijah Wood,Viggo Mortensen,Ian McKellen,Orlando Bloom</td><td>Votes: 1,614,369 | Gross: $377.85M</td><td>USA</td><td>English</td></tr>",
                            "</table>"
                        ]
                    }
                }
            ],
            "execution_count": 86
        },
        {
            "cell_type": "markdown",
            "source": [
                "# **Data Analysis**\n",
                "\n",
                "We are now ready to begin analyzing the data. A natural place to start is analysis of IMDb ratings. \n",
                "\n",
                "**IMDb ratings analysis:** First, we can look at the breakdown of the ratings. A preliminary analysis showed that most ratings were between 8.0 and 8.4, so I decided to increment the ratings by 0.5 and split the 8.0 - 8.4 tier in two. The results show that a plurality of ratings are either 8.0 or 8.1, with 9.0 and above being extremely rare and only reserved for the most exceptional and popular films and none of the ratings below 8.0."
            ],
            "metadata": {
                "language": "sql",
                "azdata_cell_guid": "6e8f4690-ec66-425c-94bc-15e05901e00e"
            },
            "attachments": {}
        },
        {
            "cell_type": "code",
            "source": [
                "-- Breakdown of Imdb ratings \n",
                "(SELECT \n",
                "'> 8.9' AS 'IMDb Rating', COUNT(title) AS 'Count' \n",
                "FROM MoviesDB.dbo.IMDBtop400\n",
                "WHERE Rate > 8.9)\n",
                "UNION ALL\n",
                "(SELECT \n",
                "'8.5 - 8.9' AS 'IMDb Rating', COUNT(title) AS 'Count' \n",
                "FROM MoviesDB.dbo.IMDBtop400\n",
                "WHERE Rate > 8.4 AND Rate < 9.0)\n",
                "UNION ALL\n",
                "(SELECT \n",
                "'8.2 - 8.4' AS 'IMDb Rating', COUNT(title) AS 'Count' \n",
                "FROM MoviesDB.dbo.IMDBtop400\n",
                "WHERE Rate > 8.1 AND Rate < 8.5)\n",
                "UNION ALL\n",
                "(SELECT \n",
                "'8.0 - 8.1' AS 'IMDb Rating', COUNT(title) AS 'Count' \n",
                "FROM MoviesDB.dbo.IMDBtop400\n",
                "WHERE Rate > 7.9 AND Rate < 8.2)\n",
                "UNION ALL\n",
                "(SELECT '< 8.0' AS 'IMDb Rating', COUNT(title) AS 'Count'\n",
                "FROM MoviesDB.dbo.IMDBtop400\n",
                "WHERE Rate < 8.0);"
            ],
            "metadata": {
                "azdata_cell_guid": "9aef5575-1d26-45e0-bbc9-3cba5cd72807",
                "language": "sql"
            },
            "outputs": [
                {
                    "output_type": "display_data",
                    "data": {
                        "text/html": "(5 rows affected)"
                    },
                    "metadata": {}
                },
                {
                    "output_type": "display_data",
                    "data": {
                        "text/html": "Total execution time: 00:00:00.005"
                    },
                    "metadata": {}
                },
                {
                    "output_type": "execute_result",
                    "metadata": {},
                    "execution_count": 89,
                    "data": {
                        "application/vnd.dataresource+json": {
                            "schema": {
                                "fields": [
                                    {
                                        "name": "IMDb Rating"
                                    },
                                    {
                                        "name": "Count"
                                    }
                                ]
                            },
                            "data": [
                                {
                                    "0": "> 8.9",
                                    "1": "4"
                                },
                                {
                                    "0": "8.5 - 8.9",
                                    "1": "49"
                                },
                                {
                                    "0": "8.2 - 8.4",
                                    "1": "140"
                                },
                                {
                                    "0": "8.0 - 8.1",
                                    "1": "207"
                                },
                                {
                                    "0": "< 8.0",
                                    "1": "0"
                                }
                            ]
                        },
                        "text/html": [
                            "<table>",
                            "<tr><th>IMDb Rating</th><th>Count</th></tr>",
                            "<tr><td>&gt; 8.9</td><td>4</td></tr>",
                            "<tr><td>8.5 - 8.9</td><td>49</td></tr>",
                            "<tr><td>8.2 - 8.4</td><td>140</td></tr>",
                            "<tr><td>8.0 - 8.1</td><td>207</td></tr>",
                            "<tr><td>&lt; 8.0</td><td>0</td></tr>",
                            "</table>"
                        ]
                    }
                }
            ],
            "execution_count": 89
        },
        {
            "cell_type": "markdown",
            "source": [
                "**Metascore analysis:** While IMDb ratings were concentrated in one range (8.0 - 8.5), Metascores are all over the place, although all are at least 60, and about a quarter of the movies do not have a metascore."
            ],
            "metadata": {
                "language": "sql",
                "azdata_cell_guid": "a4ba67ac-7be7-41c2-bfee-86935f268efa"
            },
            "attachments": {}
        },
        {
            "cell_type": "code",
            "source": [
                "-- Metascore breakdown \n",
                "(SELECT \n",
                "'> 95' AS 'Metascore', COUNT(title) AS 'Count' \n",
                "FROM MoviesDB.dbo.IMDBtop400\n",
                "WHERE Metascore > 94)\n",
                "UNION ALL\n",
                "(SELECT \n",
                "'90 - 94' AS 'Metascore', COUNT(title) AS 'Count' \n",
                "FROM MoviesDB.dbo.IMDBtop400\n",
                "WHERE Metascore < 95 AND Metascore > 89)\n",
                "UNION ALL\n",
                "(SELECT \n",
                "'85 - 89' AS 'Metascore', COUNT(title) AS 'Count' \n",
                "FROM MoviesDB.dbo.IMDBtop400\n",
                "WHERE Metascore > 84 AND Metascore < 90)\n",
                "UNION ALL\n",
                "(SELECT \n",
                "'80 - 84' AS 'Metascore', COUNT(title) AS 'Count' \n",
                "FROM MoviesDB.dbo.IMDBtop400\n",
                "WHERE Metascore > 79 AND Metascore < 85)\n",
                "UNION ALL\n",
                "(SELECT \n",
                "'75 - 79' AS 'Metascore', COUNT(title) AS 'Count' \n",
                "FROM MoviesDB.dbo.IMDBtop400\n",
                "WHERE Metascore > 74 AND Metascore < 80)\n",
                "UNION ALL\n",
                "(SELECT \n",
                "'70 - 74' AS 'Metascore', COUNT(title) AS 'Count' \n",
                "FROM MoviesDB.dbo.IMDBtop400\n",
                "WHERE Metascore > 69 AND Metascore < 75)\n",
                "UNION ALL\n",
                "(SELECT \n",
                "'65 - 69' AS 'Metascore', COUNT(title) AS 'Count' \n",
                "FROM MoviesDB.dbo.IMDBtop400\n",
                "WHERE Metascore > 64 AND Metascore < 70)\n",
                "UNION ALL\n",
                "(SELECT \n",
                "'60 - 64' AS 'Metascore', COUNT(title) AS 'Count' \n",
                "FROM MoviesDB.dbo.IMDBtop400\n",
                "WHERE Metascore > 59 AND Metascore < 65)\n",
                "UNION ALL\n",
                "(SELECT \n",
                "'< 60' AS 'Metascore', COUNT(title) AS 'Count' \n",
                "FROM MoviesDB.dbo.IMDBtop400\n",
                "WHERE Metascore < 60)\n",
                "UNION ALL\n",
                "(SELECT \n",
                "'None' AS 'Metascore', COUNT(title) AS 'Count' \n",
                "FROM MoviesDB.dbo.IMDBtop400\n",
                "WHERE Metascore IS NULL);\n",
                ""
            ],
            "metadata": {
                "language": "sql",
                "azdata_cell_guid": "698804b8-3b06-4544-a207-b520bed79488"
            },
            "outputs": [
                {
                    "output_type": "display_data",
                    "data": {
                        "text/html": "(10 rows affected)"
                    },
                    "metadata": {}
                },
                {
                    "output_type": "display_data",
                    "data": {
                        "text/html": "Total execution time: 00:00:00.006"
                    },
                    "metadata": {}
                },
                {
                    "output_type": "execute_result",
                    "metadata": {},
                    "execution_count": 90,
                    "data": {
                        "application/vnd.dataresource+json": {
                            "schema": {
                                "fields": [
                                    {
                                        "name": "Metascore"
                                    },
                                    {
                                        "name": "Count"
                                    }
                                ]
                            },
                            "data": [
                                {
                                    "0": "> 95",
                                    "1": "38"
                                },
                                {
                                    "0": "90 - 94",
                                    "1": "42"
                                },
                                {
                                    "0": "85 - 89",
                                    "1": "53"
                                },
                                {
                                    "0": "80 - 84",
                                    "1": "39"
                                },
                                {
                                    "0": "75 - 79",
                                    "1": "43"
                                },
                                {
                                    "0": "70 - 74",
                                    "1": "32"
                                },
                                {
                                    "0": "65 - 69",
                                    "1": "28"
                                },
                                {
                                    "0": "60 - 64",
                                    "1": "12"
                                },
                                {
                                    "0": "< 60",
                                    "1": "0"
                                },
                                {
                                    "0": "None",
                                    "1": "113"
                                }
                            ]
                        },
                        "text/html": [
                            "<table>",
                            "<tr><th>Metascore</th><th>Count</th></tr>",
                            "<tr><td>&gt; 95</td><td>38</td></tr>",
                            "<tr><td>90 - 94</td><td>42</td></tr>",
                            "<tr><td>85 - 89</td><td>53</td></tr>",
                            "<tr><td>80 - 84</td><td>39</td></tr>",
                            "<tr><td>75 - 79</td><td>43</td></tr>",
                            "<tr><td>70 - 74</td><td>32</td></tr>",
                            "<tr><td>65 - 69</td><td>28</td></tr>",
                            "<tr><td>60 - 64</td><td>12</td></tr>",
                            "<tr><td>&lt; 60</td><td>0</td></tr>",
                            "<tr><td>None</td><td>113</td></tr>",
                            "</table>"
                        ]
                    }
                }
            ],
            "execution_count": 90
        },
        {
            "cell_type": "markdown",
            "source": [
                "**Country of origin analysis:** Another piece of information we can look for is the breakdown by country of origin. Unsurprisingly, over half of the movies were produced in the United States, where Hollywood is located. India and Japan also dominate the list, as Bollywood and Japanese animated features also have a strong international following."
            ],
            "metadata": {
                "language": "sql",
                "azdata_cell_guid": "8c7ab855-f44a-4903-b7f6-da95de048850"
            },
            "attachments": {}
        },
        {
            "cell_type": "code",
            "source": [
                "-- Analysis of countries \n",
                "SELECT value as 'Country', COUNT(*) AS 'Count'\n",
                "FROM MoviesDB.dbo.IMDBtop400  \n",
                "    CROSS APPLY STRING_SPLIT(Country_of_Origin, ',')  \n",
                "GROUP BY value    \n",
                "ORDER BY COUNT(*) DESC;"
            ],
            "metadata": {
                "azdata_cell_guid": "18984afe-5db2-4d22-b948-3932173b913b",
                "language": "sql"
            },
            "outputs": [
                {
                    "output_type": "display_data",
                    "data": {
                        "text/html": "(35 rows affected)"
                    },
                    "metadata": {}
                },
                {
                    "output_type": "display_data",
                    "data": {
                        "text/html": "Total execution time: 00:00:00.006"
                    },
                    "metadata": {}
                },
                {
                    "output_type": "execute_result",
                    "metadata": {},
                    "execution_count": 94,
                    "data": {
                        "application/vnd.dataresource+json": {
                            "schema": {
                                "fields": [
                                    {
                                        "name": "Country"
                                    },
                                    {
                                        "name": "Count"
                                    }
                                ]
                            },
                            "data": [
                                {
                                    "0": "USA",
                                    "1": "229"
                                },
                                {
                                    "0": "India",
                                    "1": "48"
                                },
                                {
                                    "0": "Japan",
                                    "1": "27"
                                },
                                {
                                    "0": "France",
                                    "1": "17"
                                },
                                {
                                    "0": "UK",
                                    "1": "12"
                                },
                                {
                                    "0": "South Korea",
                                    "1": "9"
                                },
                                {
                                    "0": "Germany",
                                    "1": "9"
                                },
                                {
                                    "0": "Sweden",
                                    "1": "7"
                                },
                                {
                                    "0": "Turkey",
                                    "1": "7"
                                },
                                {
                                    "0": "Soviet Union",
                                    "1": "6"
                                },
                                {
                                    "0": "Italy",
                                    "1": "6"
                                },
                                {
                                    "0": "Hong Kong",
                                    "1": "5"
                                },
                                {
                                    "0": "Spain",
                                    "1": "5"
                                },
                                {
                                    "0": "Iran",
                                    "1": "4"
                                },
                                {
                                    "0": "Brazil",
                                    "1": "4"
                                },
                                {
                                    "0": "Australia ",
                                    "1": "3"
                                },
                                {
                                    "0": "Mexico ",
                                    "1": "3"
                                },
                                {
                                    "0": "Denmark",
                                    "1": "3"
                                },
                                {
                                    "0": "Canada",
                                    "1": "2"
                                },
                                {
                                    "0": "Russia",
                                    "1": "2"
                                },
                                {
                                    "0": "Algeria ",
                                    "1": "2"
                                },
                                {
                                    "0": "Lebanon",
                                    "1": "2"
                                },
                                {
                                    "0": "Serbia",
                                    "1": "2"
                                },
                                {
                                    "0": "Libya",
                                    "1": "1"
                                },
                                {
                                    "0": "Argentina",
                                    "1": "1"
                                },
                                {
                                    "0": "China",
                                    "1": "1"
                                },
                                {
                                    "0": "Indonesia ",
                                    "1": "1"
                                },
                                {
                                    "0": "Hungary",
                                    "1": "1"
                                },
                                {
                                    "0": "Switzerland",
                                    "1": "1"
                                },
                                {
                                    "0": "Estonia",
                                    "1": "1"
                                },
                                {
                                    "0": "Syria",
                                    "1": "1"
                                },
                                {
                                    "0": "Poland ",
                                    "1": "1"
                                },
                                {
                                    "0": "Morocco",
                                    "1": "1"
                                },
                                {
                                    "0": "Georgia",
                                    "1": "1"
                                },
                                {
                                    "0": "Czech Republic",
                                    "1": "1"
                                }
                            ]
                        },
                        "text/html": [
                            "<table>",
                            "<tr><th>Country</th><th>Count</th></tr>",
                            "<tr><td>USA</td><td>229</td></tr>",
                            "<tr><td>India</td><td>48</td></tr>",
                            "<tr><td>Japan</td><td>27</td></tr>",
                            "<tr><td>France</td><td>17</td></tr>",
                            "<tr><td>UK</td><td>12</td></tr>",
                            "<tr><td>South Korea</td><td>9</td></tr>",
                            "<tr><td>Germany</td><td>9</td></tr>",
                            "<tr><td>Sweden</td><td>7</td></tr>",
                            "<tr><td>Turkey</td><td>7</td></tr>",
                            "<tr><td>Soviet Union</td><td>6</td></tr>",
                            "<tr><td>Italy</td><td>6</td></tr>",
                            "<tr><td>Hong Kong</td><td>5</td></tr>",
                            "<tr><td>Spain</td><td>5</td></tr>",
                            "<tr><td>Iran</td><td>4</td></tr>",
                            "<tr><td>Brazil</td><td>4</td></tr>",
                            "<tr><td>Australia </td><td>3</td></tr>",
                            "<tr><td>Mexico </td><td>3</td></tr>",
                            "<tr><td>Denmark</td><td>3</td></tr>",
                            "<tr><td>Canada</td><td>2</td></tr>",
                            "<tr><td>Russia</td><td>2</td></tr>",
                            "<tr><td>Algeria </td><td>2</td></tr>",
                            "<tr><td>Lebanon</td><td>2</td></tr>",
                            "<tr><td>Serbia</td><td>2</td></tr>",
                            "<tr><td>Libya</td><td>1</td></tr>",
                            "<tr><td>Argentina</td><td>1</td></tr>",
                            "<tr><td>China</td><td>1</td></tr>",
                            "<tr><td>Indonesia </td><td>1</td></tr>",
                            "<tr><td>Hungary</td><td>1</td></tr>",
                            "<tr><td>Switzerland</td><td>1</td></tr>",
                            "<tr><td>Estonia</td><td>1</td></tr>",
                            "<tr><td>Syria</td><td>1</td></tr>",
                            "<tr><td>Poland </td><td>1</td></tr>",
                            "<tr><td>Morocco</td><td>1</td></tr>",
                            "<tr><td>Georgia</td><td>1</td></tr>",
                            "<tr><td>Czech Republic</td><td>1</td></tr>",
                            "</table>"
                        ]
                    }
                }
            ],
            "execution_count": 94
        },
        {
            "cell_type": "markdown",
            "source": [
                "**Language analysis:** Similarly, we can analyze what languages are most commonly spoken. Unsurprisingly, once again, English tops the list, with Hindi, a major language spoken in Bollywood movies, coming in second, and Japanese coming in third. Note that 4 Indian movies were not filmed in Hindi."
            ],
            "metadata": {
                "language": "sql",
                "azdata_cell_guid": "2ce95491-7058-469c-8515-401a04da69ba"
            },
            "attachments": {}
        },
        {
            "cell_type": "code",
            "source": [
                "-- Languages breakdown  \n",
                "SELECT value as 'Language', COUNT(*) AS 'Count'\n",
                "FROM MoviesDB.dbo.IMDBtop400  \n",
                "    CROSS APPLY STRING_SPLIT(Language, ',')  \n",
                "GROUP BY value    \n",
                "ORDER BY COUNT(*) DESC;"
            ],
            "metadata": {
                "azdata_cell_guid": "b876afef-6a1d-4b02-ab46-a3c8cb72b64e",
                "language": "sql"
            },
            "outputs": [
                {
                    "output_type": "display_data",
                    "data": {
                        "text/html": "(28 rows affected)"
                    },
                    "metadata": {}
                },
                {
                    "output_type": "display_data",
                    "data": {
                        "text/html": "Total execution time: 00:00:00.014"
                    },
                    "metadata": {}
                },
                {
                    "output_type": "execute_result",
                    "metadata": {},
                    "execution_count": 95,
                    "data": {
                        "application/vnd.dataresource+json": {
                            "schema": {
                                "fields": [
                                    {
                                        "name": "Language"
                                    },
                                    {
                                        "name": "Count"
                                    }
                                ]
                            },
                            "data": [
                                {
                                    "0": "English",
                                    "1": "244"
                                },
                                {
                                    "0": "Hindi",
                                    "1": "44"
                                },
                                {
                                    "0": "Japanese",
                                    "1": "26"
                                },
                                {
                                    "0": "French",
                                    "1": "15"
                                },
                                {
                                    "0": "Korean",
                                    "1": "9"
                                },
                                {
                                    "0": "Spanish ",
                                    "1": "8"
                                },
                                {
                                    "0": "German",
                                    "1": "8"
                                },
                                {
                                    "0": "Russian",
                                    "1": "8"
                                },
                                {
                                    "0": "Turkish",
                                    "1": "7"
                                },
                                {
                                    "0": "Swedish ",
                                    "1": "6"
                                },
                                {
                                    "0": "Persian",
                                    "1": "4"
                                },
                                {
                                    "0": "Cantonese ",
                                    "1": "4"
                                },
                                {
                                    "0": "Portuguese",
                                    "1": "4"
                                },
                                {
                                    "0": "Arabic ",
                                    "1": "4"
                                },
                                {
                                    "0": "Italian ",
                                    "1": "3"
                                },
                                {
                                    "0": "Serbian",
                                    "1": "2"
                                },
                                {
                                    "0": "Danish",
                                    "1": "2"
                                },
                                {
                                    "0": "Kannada",
                                    "1": "2"
                                },
                                {
                                    "0": "Romanian",
                                    "1": "1"
                                },
                                {
                                    "0": "Indonesian ",
                                    "1": "1"
                                },
                                {
                                    "0": "Telugu",
                                    "1": "1"
                                },
                                {
                                    "0": "Estonian",
                                    "1": "1"
                                },
                                {
                                    "0": "Georgian",
                                    "1": "1"
                                },
                                {
                                    "0": "Mandarin ",
                                    "1": "1"
                                },
                                {
                                    "0": "Belarussian",
                                    "1": "1"
                                },
                                {
                                    "0": "Tamil",
                                    "1": "1"
                                },
                                {
                                    "0": "Indian ",
                                    "1": "1"
                                },
                                {
                                    "0": "Romani",
                                    "1": "1"
                                }
                            ]
                        },
                        "text/html": [
                            "<table>",
                            "<tr><th>Language</th><th>Count</th></tr>",
                            "<tr><td>English</td><td>244</td></tr>",
                            "<tr><td>Hindi</td><td>44</td></tr>",
                            "<tr><td>Japanese</td><td>26</td></tr>",
                            "<tr><td>French</td><td>15</td></tr>",
                            "<tr><td>Korean</td><td>9</td></tr>",
                            "<tr><td>Spanish </td><td>8</td></tr>",
                            "<tr><td>German</td><td>8</td></tr>",
                            "<tr><td>Russian</td><td>8</td></tr>",
                            "<tr><td>Turkish</td><td>7</td></tr>",
                            "<tr><td>Swedish </td><td>6</td></tr>",
                            "<tr><td>Persian</td><td>4</td></tr>",
                            "<tr><td>Cantonese </td><td>4</td></tr>",
                            "<tr><td>Portuguese</td><td>4</td></tr>",
                            "<tr><td>Arabic </td><td>4</td></tr>",
                            "<tr><td>Italian </td><td>3</td></tr>",
                            "<tr><td>Serbian</td><td>2</td></tr>",
                            "<tr><td>Danish</td><td>2</td></tr>",
                            "<tr><td>Kannada</td><td>2</td></tr>",
                            "<tr><td>Romanian</td><td>1</td></tr>",
                            "<tr><td>Indonesian </td><td>1</td></tr>",
                            "<tr><td>Telugu</td><td>1</td></tr>",
                            "<tr><td>Estonian</td><td>1</td></tr>",
                            "<tr><td>Georgian</td><td>1</td></tr>",
                            "<tr><td>Mandarin </td><td>1</td></tr>",
                            "<tr><td>Belarussian</td><td>1</td></tr>",
                            "<tr><td>Tamil</td><td>1</td></tr>",
                            "<tr><td>Indian </td><td>1</td></tr>",
                            "<tr><td>Romani</td><td>1</td></tr>",
                            "</table>"
                        ]
                    }
                }
            ],
            "execution_count": 95
        },
        {
            "cell_type": "markdown",
            "source": [
                "**Genre analysis:** Most movies fell under multiple genres, but I was surprised to see that despite this, there were multiple combinations of genres that topped the list. I noticed, however, that te top categories appeared to contain drama as a genre."
            ],
            "metadata": {
                "language": "sql",
                "azdata_cell_guid": "285c751e-3df0-4bda-958e-e66d47a9f48a"
            },
            "attachments": {}
        },
        {
            "cell_type": "code",
            "source": [
                "--Breakdown by genre #1 \n",
                "SELECT genre, COUNT(Title) as 'count'\n",
                "FROM MoviesDB.dbo.IMDBtop400\n",
                "GROUP BY genre\n",
                "ORDER BY COUNT(Title) DESC;"
            ],
            "metadata": {
                "language": "sql",
                "azdata_cell_guid": "0ebfdd2c-645b-4fe7-99f1-522583a95d1a"
            },
            "outputs": [
                {
                    "output_type": "display_data",
                    "data": {
                        "text/html": "(130 rows affected)"
                    },
                    "metadata": {}
                },
                {
                    "output_type": "display_data",
                    "data": {
                        "text/html": "Total execution time: 00:00:00.012"
                    },
                    "metadata": {}
                },
                {
                    "output_type": "execute_result",
                    "metadata": {},
                    "execution_count": 100,
                    "data": {
                        "application/vnd.dataresource+json": {
                            "schema": {
                                "fields": [
                                    {
                                        "name": "genre"
                                    },
                                    {
                                        "name": "count"
                                    }
                                ]
                            },
                            "data": [
                                {
                                    "0": "Drama",
                                    "1": "37"
                                },
                                {
                                    "0": "Crime,Drama",
                                    "1": "16"
                                },
                                {
                                    "0": "Biography,Drama,History",
                                    "1": "15"
                                },
                                {
                                    "0": "Crime,Drama,Thriller",
                                    "1": "13"
                                },
                                {
                                    "0": "Drama,Romance",
                                    "1": "13"
                                },
                                {
                                    "0": "Drama,War",
                                    "1": "11"
                                },
                                {
                                    "0": "Crime,Drama,Mystery",
                                    "1": "10"
                                },
                                {
                                    "0": "Comedy,Drama,Romance",
                                    "1": "10"
                                },
                                {
                                    "0": "Animation,Adventure,Comedy",
                                    "1": "10"
                                },
                                {
                                    "0": "Biography,Drama",
                                    "1": "10"
                                },
                                {
                                    "0": "Action,Crime,Drama",
                                    "1": "10"
                                },
                                {
                                    "0": "Comedy,Drama",
                                    "1": "9"
                                },
                                {
                                    "0": "Action,Adventure,Drama",
                                    "1": "7"
                                },
                                {
                                    "0": "Action,Adventure,Sci-Fi",
                                    "1": "6"
                                },
                                {
                                    "0": "Drama,Mystery,Thriller",
                                    "1": "6"
                                },
                                {
                                    "0": "Drama,Thriller",
                                    "1": "5"
                                },
                                {
                                    "0": "Action,Adventure,Comedy",
                                    "1": "5"
                                },
                                {
                                    "0": "Action,Adventure",
                                    "1": "4"
                                },
                                {
                                    "0": "Action,Adventure,Fantasy",
                                    "1": "4"
                                },
                                {
                                    "0": "Action,Biography,Drama",
                                    "1": "4"
                                },
                                {
                                    "0": "Adventure,Biography,Drama",
                                    "1": "4"
                                },
                                {
                                    "0": "Comedy,Crime,Drama",
                                    "1": "4"
                                },
                                {
                                    "0": "Biography,Crime,Drama",
                                    "1": "4"
                                },
                                {
                                    "0": "Animation,Action,Adventure",
                                    "1": "4"
                                },
                                {
                                    "0": "Animation,Adventure,Family",
                                    "1": "4"
                                },
                                {
                                    "0": "Mystery,Thriller",
                                    "1": "4"
                                },
                                {
                                    "0": "Comedy,Romance",
                                    "1": "4"
                                },
                                {
                                    "0": "Drama,Family",
                                    "1": "4"
                                },
                                {
                                    "0": "Crime,Thriller",
                                    "1": "3"
                                },
                                {
                                    "0": "Drama,Mystery,Romance",
                                    "1": "3"
                                },
                                {
                                    "0": "Drama,Mystery,Sci-Fi",
                                    "1": "3"
                                },
                                {
                                    "0": "Drama,Music",
                                    "1": "3"
                                },
                                {
                                    "0": "Drama,Film-Noir",
                                    "1": "3"
                                },
                                {
                                    "0": "Western",
                                    "1": "3"
                                },
                                {
                                    "0": "Drama,Western",
                                    "1": "3"
                                },
                                {
                                    "0": "Animation,Adventure,Drama",
                                    "1": "3"
                                },
                                {
                                    "0": "Adventure,Drama",
                                    "1": "3"
                                },
                                {
                                    "0": "Adventure,Drama,History",
                                    "1": "3"
                                },
                                {
                                    "0": "Adventure,Drama,Thriller",
                                    "1": "3"
                                },
                                {
                                    "0": "Action,Comedy,Crime",
                                    "1": "3"
                                },
                                {
                                    "0": "Action,Drama,War",
                                    "1": "3"
                                },
                                {
                                    "0": "Action,Crime,Thriller",
                                    "1": "3"
                                },
                                {
                                    "0": "Action,Drama",
                                    "1": "3"
                                },
                                {
                                    "0": "Action,Drama,Mystery",
                                    "1": "3"
                                },
                                {
                                    "0": "Adventure,Drama,War",
                                    "1": "2"
                                },
                                {
                                    "0": "Adventure,Drama,Fantasy",
                                    "1": "2"
                                },
                                {
                                    "0": "Adventure,Comedy,Drama",
                                    "1": "2"
                                },
                                {
                                    "0": "Action,Sci-Fi",
                                    "1": "2"
                                },
                                {
                                    "0": "Action,Drama,Thriller",
                                    "1": "2"
                                },
                                {
                                    "0": "Action,Thriller",
                                    "1": "2"
                                },
                                {
                                    "0": "Animation,Drama,Family",
                                    "1": "2"
                                },
                                {
                                    "0": "Animation,Family,Fantasy",
                                    "1": "2"
                                },
                                {
                                    "0": "Biography,Comedy,Drama",
                                    "1": "2"
                                },
                                {
                                    "0": "Animation,Adventure,Fantasy",
                                    "1": "2"
                                },
                                {
                                    "0": "Adventure,Comedy,Sci-Fi",
                                    "1": "2"
                                },
                                {
                                    "0": "Adventure,Drama,Sci-Fi",
                                    "1": "2"
                                },
                                {
                                    "0": "Comedy",
                                    "1": "2"
                                },
                                {
                                    "0": "Biography,Drama,Music",
                                    "1": "2"
                                },
                                {
                                    "0": "Biography,Drama,Sport",
                                    "1": "2"
                                },
                                {
                                    "0": "Comedy,Drama,Family",
                                    "1": "2"
                                },
                                {
                                    "0": "Comedy,Drama,Thriller",
                                    "1": "2"
                                },
                                {
                                    "0": "Comedy,Drama,War",
                                    "1": "2"
                                },
                                {
                                    "0": "Drama,Sci-Fi",
                                    "1": "2"
                                },
                                {
                                    "0": "Drama,Sport",
                                    "1": "2"
                                },
                                {
                                    "0": "Drama,Romance,Sci-Fi",
                                    "1": "2"
                                },
                                {
                                    "0": "Drama,History",
                                    "1": "2"
                                },
                                {
                                    "0": "Drama,History,Romance",
                                    "1": "2"
                                },
                                {
                                    "0": "Drama,Family,Sport",
                                    "1": "2"
                                },
                                {
                                    "0": "Drama,Fantasy",
                                    "1": "2"
                                },
                                {
                                    "0": "Drama,Music,Romance",
                                    "1": "2"
                                },
                                {
                                    "0": "Drama,Mystery,War",
                                    "1": "2"
                                },
                                {
                                    "0": "Comedy,Drama,Musical",
                                    "1": "2"
                                },
                                {
                                    "0": "Crime,Mystery,Thriller",
                                    "1": "2"
                                },
                                {
                                    "0": "Crime,Drama,Romance",
                                    "1": "1"
                                },
                                {
                                    "0": "Crime,Drama,Sci-Fi",
                                    "1": "1"
                                },
                                {
                                    "0": "Drama,Family,Fantasy",
                                    "1": "1"
                                },
                                {
                                    "0": "Comedy,War",
                                    "1": "1"
                                },
                                {
                                    "0": "Comedy,Drama,Sci-Fi",
                                    "1": "1"
                                },
                                {
                                    "0": "Crime,Drama,Fantasy",
                                    "1": "1"
                                },
                                {
                                    "0": "Crime,Drama,Film-Noir",
                                    "1": "1"
                                },
                                {
                                    "0": "Crime,Drama,Musical",
                                    "1": "1"
                                },
                                {
                                    "0": "Drama,Musical",
                                    "1": "1"
                                },
                                {
                                    "0": "Drama,Mystery",
                                    "1": "1"
                                },
                                {
                                    "0": "Drama,Fantasy,Horror",
                                    "1": "1"
                                },
                                {
                                    "0": "Drama,Fantasy,Music",
                                    "1": "1"
                                },
                                {
                                    "0": "Drama,Fantasy,War",
                                    "1": "1"
                                },
                                {
                                    "0": "Drama,History,Thriller",
                                    "1": "1"
                                },
                                {
                                    "0": "Drama,Horror",
                                    "1": "1"
                                },
                                {
                                    "0": "Drama,Horror,Thriller",
                                    "1": "1"
                                },
                                {
                                    "0": "Drama,Romance,Thriller",
                                    "1": "1"
                                },
                                {
                                    "0": "Drama,Romance,War",
                                    "1": "1"
                                },
                                {
                                    "0": "Drama,Thriller,War",
                                    "1": "1"
                                },
                                {
                                    "0": "Fantasy,Horror,Mystery",
                                    "1": "1"
                                },
                                {
                                    "0": "Film-Noir,Mystery,Thriller",
                                    "1": "1"
                                },
                                {
                                    "0": "Horror,Mystery,Sci-Fi",
                                    "1": "1"
                                },
                                {
                                    "0": "Horror,Mystery,Thriller",
                                    "1": "1"
                                },
                                {
                                    "0": "Horror,Sci-Fi",
                                    "1": "1"
                                },
                                {
                                    "0": "Mystery,Romance,Thriller",
                                    "1": "1"
                                },
                                {
                                    "0": "Mystery,Sci-Fi,Thriller",
                                    "1": "1"
                                },
                                {
                                    "0": "Comedy,Fantasy,Romance",
                                    "1": "1"
                                },
                                {
                                    "0": "Comedy,Music,Romance",
                                    "1": "1"
                                },
                                {
                                    "0": "Comedy,Musical,Romance",
                                    "1": "1"
                                },
                                {
                                    "0": "Comedy,Drama,Fantasy",
                                    "1": "1"
                                },
                                {
                                    "0": "Comedy,Drama,Music",
                                    "1": "1"
                                },
                                {
                                    "0": "Biography,Drama,Thriller",
                                    "1": "1"
                                },
                                {
                                    "0": "Comedy,Crime",
                                    "1": "1"
                                },
                                {
                                    "0": "Comedy,Crime,Romance",
                                    "1": "1"
                                },
                                {
                                    "0": "Comedy,Crime,Sport",
                                    "1": "1"
                                },
                                {
                                    "0": "Animation,Action,Crime",
                                    "1": "1"
                                },
                                {
                                    "0": "Animation,Action,Drama",
                                    "1": "1"
                                },
                                {
                                    "0": "Animation,Biography,Drama",
                                    "1": "1"
                                },
                                {
                                    "0": "Animation,Comedy,Drama",
                                    "1": "1"
                                },
                                {
                                    "0": "Animation,Crime,Mystery",
                                    "1": "1"
                                },
                                {
                                    "0": "Animation,Drama,Fantasy",
                                    "1": "1"
                                },
                                {
                                    "0": "Animation,Drama,War",
                                    "1": "1"
                                },
                                {
                                    "0": "Action,Sci-Fi,Thriller",
                                    "1": "1"
                                },
                                {
                                    "0": "Adventure,Comedy,Fantasy",
                                    "1": "1"
                                },
                                {
                                    "0": "Adventure,Comedy,Crime",
                                    "1": "1"
                                },
                                {
                                    "0": "Adventure,Drama,Musical",
                                    "1": "1"
                                },
                                {
                                    "0": "Adventure,Drama,Western",
                                    "1": "1"
                                },
                                {
                                    "0": "Adventure,Family,Fantasy",
                                    "1": "1"
                                },
                                {
                                    "0": "Adventure,Mystery,Thriller",
                                    "1": "1"
                                },
                                {
                                    "0": "Adventure,Sci-Fi",
                                    "1": "1"
                                },
                                {
                                    "0": "Action,Drama,Sci-Fi",
                                    "1": "1"
                                },
                                {
                                    "0": "Action,Drama,Sport",
                                    "1": "1"
                                },
                                {
                                    "0": "Action,Mystery,Thriller",
                                    "1": "1"
                                },
                                {
                                    "0": "Action,Adventure,Thriller",
                                    "1": "1"
                                },
                                {
                                    "0": "Action,Biography,Crime",
                                    "1": "1"
                                },
                                {
                                    "0": "Action,Comedy,Romance",
                                    "1": "1"
                                },
                                {
                                    "0": "Action,Crime,Comedy",
                                    "1": "1"
                                }
                            ]
                        },
                        "text/html": [
                            "<table>",
                            "<tr><th>genre</th><th>count</th></tr>",
                            "<tr><td>Drama</td><td>37</td></tr>",
                            "<tr><td>Crime,Drama</td><td>16</td></tr>",
                            "<tr><td>Biography,Drama,History</td><td>15</td></tr>",
                            "<tr><td>Crime,Drama,Thriller</td><td>13</td></tr>",
                            "<tr><td>Drama,Romance</td><td>13</td></tr>",
                            "<tr><td>Drama,War</td><td>11</td></tr>",
                            "<tr><td>Crime,Drama,Mystery</td><td>10</td></tr>",
                            "<tr><td>Comedy,Drama,Romance</td><td>10</td></tr>",
                            "<tr><td>Animation,Adventure,Comedy</td><td>10</td></tr>",
                            "<tr><td>Biography,Drama</td><td>10</td></tr>",
                            "<tr><td>Action,Crime,Drama</td><td>10</td></tr>",
                            "<tr><td>Comedy,Drama</td><td>9</td></tr>",
                            "<tr><td>Action,Adventure,Drama</td><td>7</td></tr>",
                            "<tr><td>Action,Adventure,Sci-Fi</td><td>6</td></tr>",
                            "<tr><td>Drama,Mystery,Thriller</td><td>6</td></tr>",
                            "<tr><td>Drama,Thriller</td><td>5</td></tr>",
                            "<tr><td>Action,Adventure,Comedy</td><td>5</td></tr>",
                            "<tr><td>Action,Adventure</td><td>4</td></tr>",
                            "<tr><td>Action,Adventure,Fantasy</td><td>4</td></tr>",
                            "<tr><td>Action,Biography,Drama</td><td>4</td></tr>",
                            "<tr><td>Adventure,Biography,Drama</td><td>4</td></tr>",
                            "<tr><td>Comedy,Crime,Drama</td><td>4</td></tr>",
                            "<tr><td>Biography,Crime,Drama</td><td>4</td></tr>",
                            "<tr><td>Animation,Action,Adventure</td><td>4</td></tr>",
                            "<tr><td>Animation,Adventure,Family</td><td>4</td></tr>",
                            "<tr><td>Mystery,Thriller</td><td>4</td></tr>",
                            "<tr><td>Comedy,Romance</td><td>4</td></tr>",
                            "<tr><td>Drama,Family</td><td>4</td></tr>",
                            "<tr><td>Crime,Thriller</td><td>3</td></tr>",
                            "<tr><td>Drama,Mystery,Romance</td><td>3</td></tr>",
                            "<tr><td>Drama,Mystery,Sci-Fi</td><td>3</td></tr>",
                            "<tr><td>Drama,Music</td><td>3</td></tr>",
                            "<tr><td>Drama,Film-Noir</td><td>3</td></tr>",
                            "<tr><td>Western</td><td>3</td></tr>",
                            "<tr><td>Drama,Western</td><td>3</td></tr>",
                            "<tr><td>Animation,Adventure,Drama</td><td>3</td></tr>",
                            "<tr><td>Adventure,Drama</td><td>3</td></tr>",
                            "<tr><td>Adventure,Drama,History</td><td>3</td></tr>",
                            "<tr><td>Adventure,Drama,Thriller</td><td>3</td></tr>",
                            "<tr><td>Action,Comedy,Crime</td><td>3</td></tr>",
                            "<tr><td>Action,Drama,War</td><td>3</td></tr>",
                            "<tr><td>Action,Crime,Thriller</td><td>3</td></tr>",
                            "<tr><td>Action,Drama</td><td>3</td></tr>",
                            "<tr><td>Action,Drama,Mystery</td><td>3</td></tr>",
                            "<tr><td>Adventure,Drama,War</td><td>2</td></tr>",
                            "<tr><td>Adventure,Drama,Fantasy</td><td>2</td></tr>",
                            "<tr><td>Adventure,Comedy,Drama</td><td>2</td></tr>",
                            "<tr><td>Action,Sci-Fi</td><td>2</td></tr>",
                            "<tr><td>Action,Drama,Thriller</td><td>2</td></tr>",
                            "<tr><td>Action,Thriller</td><td>2</td></tr>",
                            "<tr><td>Animation,Drama,Family</td><td>2</td></tr>",
                            "<tr><td>Animation,Family,Fantasy</td><td>2</td></tr>",
                            "<tr><td>Biography,Comedy,Drama</td><td>2</td></tr>",
                            "<tr><td>Animation,Adventure,Fantasy</td><td>2</td></tr>",
                            "<tr><td>Adventure,Comedy,Sci-Fi</td><td>2</td></tr>",
                            "<tr><td>Adventure,Drama,Sci-Fi</td><td>2</td></tr>",
                            "<tr><td>Comedy</td><td>2</td></tr>",
                            "<tr><td>Biography,Drama,Music</td><td>2</td></tr>",
                            "<tr><td>Biography,Drama,Sport</td><td>2</td></tr>",
                            "<tr><td>Comedy,Drama,Family</td><td>2</td></tr>",
                            "<tr><td>Comedy,Drama,Thriller</td><td>2</td></tr>",
                            "<tr><td>Comedy,Drama,War</td><td>2</td></tr>",
                            "<tr><td>Drama,Sci-Fi</td><td>2</td></tr>",
                            "<tr><td>Drama,Sport</td><td>2</td></tr>",
                            "<tr><td>Drama,Romance,Sci-Fi</td><td>2</td></tr>",
                            "<tr><td>Drama,History</td><td>2</td></tr>",
                            "<tr><td>Drama,History,Romance</td><td>2</td></tr>",
                            "<tr><td>Drama,Family,Sport</td><td>2</td></tr>",
                            "<tr><td>Drama,Fantasy</td><td>2</td></tr>",
                            "<tr><td>Drama,Music,Romance</td><td>2</td></tr>",
                            "<tr><td>Drama,Mystery,War</td><td>2</td></tr>",
                            "<tr><td>Comedy,Drama,Musical</td><td>2</td></tr>",
                            "<tr><td>Crime,Mystery,Thriller</td><td>2</td></tr>",
                            "<tr><td>Crime,Drama,Romance</td><td>1</td></tr>",
                            "<tr><td>Crime,Drama,Sci-Fi</td><td>1</td></tr>",
                            "<tr><td>Drama,Family,Fantasy</td><td>1</td></tr>",
                            "<tr><td>Comedy,War</td><td>1</td></tr>",
                            "<tr><td>Comedy,Drama,Sci-Fi</td><td>1</td></tr>",
                            "<tr><td>Crime,Drama,Fantasy</td><td>1</td></tr>",
                            "<tr><td>Crime,Drama,Film-Noir</td><td>1</td></tr>",
                            "<tr><td>Crime,Drama,Musical</td><td>1</td></tr>",
                            "<tr><td>Drama,Musical</td><td>1</td></tr>",
                            "<tr><td>Drama,Mystery</td><td>1</td></tr>",
                            "<tr><td>Drama,Fantasy,Horror</td><td>1</td></tr>",
                            "<tr><td>Drama,Fantasy,Music</td><td>1</td></tr>",
                            "<tr><td>Drama,Fantasy,War</td><td>1</td></tr>",
                            "<tr><td>Drama,History,Thriller</td><td>1</td></tr>",
                            "<tr><td>Drama,Horror</td><td>1</td></tr>",
                            "<tr><td>Drama,Horror,Thriller</td><td>1</td></tr>",
                            "<tr><td>Drama,Romance,Thriller</td><td>1</td></tr>",
                            "<tr><td>Drama,Romance,War</td><td>1</td></tr>",
                            "<tr><td>Drama,Thriller,War</td><td>1</td></tr>",
                            "<tr><td>Fantasy,Horror,Mystery</td><td>1</td></tr>",
                            "<tr><td>Film-Noir,Mystery,Thriller</td><td>1</td></tr>",
                            "<tr><td>Horror,Mystery,Sci-Fi</td><td>1</td></tr>",
                            "<tr><td>Horror,Mystery,Thriller</td><td>1</td></tr>",
                            "<tr><td>Horror,Sci-Fi</td><td>1</td></tr>",
                            "<tr><td>Mystery,Romance,Thriller</td><td>1</td></tr>",
                            "<tr><td>Mystery,Sci-Fi,Thriller</td><td>1</td></tr>",
                            "<tr><td>Comedy,Fantasy,Romance</td><td>1</td></tr>",
                            "<tr><td>Comedy,Music,Romance</td><td>1</td></tr>",
                            "<tr><td>Comedy,Musical,Romance</td><td>1</td></tr>",
                            "<tr><td>Comedy,Drama,Fantasy</td><td>1</td></tr>",
                            "<tr><td>Comedy,Drama,Music</td><td>1</td></tr>",
                            "<tr><td>Biography,Drama,Thriller</td><td>1</td></tr>",
                            "<tr><td>Comedy,Crime</td><td>1</td></tr>",
                            "<tr><td>Comedy,Crime,Romance</td><td>1</td></tr>",
                            "<tr><td>Comedy,Crime,Sport</td><td>1</td></tr>",
                            "<tr><td>Animation,Action,Crime</td><td>1</td></tr>",
                            "<tr><td>Animation,Action,Drama</td><td>1</td></tr>",
                            "<tr><td>Animation,Biography,Drama</td><td>1</td></tr>",
                            "<tr><td>Animation,Comedy,Drama</td><td>1</td></tr>",
                            "<tr><td>Animation,Crime,Mystery</td><td>1</td></tr>",
                            "<tr><td>Animation,Drama,Fantasy</td><td>1</td></tr>",
                            "<tr><td>Animation,Drama,War</td><td>1</td></tr>",
                            "<tr><td>Action,Sci-Fi,Thriller</td><td>1</td></tr>",
                            "<tr><td>Adventure,Comedy,Fantasy</td><td>1</td></tr>",
                            "<tr><td>Adventure,Comedy,Crime</td><td>1</td></tr>",
                            "<tr><td>Adventure,Drama,Musical</td><td>1</td></tr>",
                            "<tr><td>Adventure,Drama,Western</td><td>1</td></tr>",
                            "<tr><td>Adventure,Family,Fantasy</td><td>1</td></tr>",
                            "<tr><td>Adventure,Mystery,Thriller</td><td>1</td></tr>",
                            "<tr><td>Adventure,Sci-Fi</td><td>1</td></tr>",
                            "<tr><td>Action,Drama,Sci-Fi</td><td>1</td></tr>",
                            "<tr><td>Action,Drama,Sport</td><td>1</td></tr>",
                            "<tr><td>Action,Mystery,Thriller</td><td>1</td></tr>",
                            "<tr><td>Action,Adventure,Thriller</td><td>1</td></tr>",
                            "<tr><td>Action,Biography,Crime</td><td>1</td></tr>",
                            "<tr><td>Action,Comedy,Romance</td><td>1</td></tr>",
                            "<tr><td>Action,Crime,Comedy</td><td>1</td></tr>",
                            "</table>"
                        ]
                    }
                }
            ],
            "execution_count": 100
        },
        {
            "cell_type": "markdown",
            "source": [
                "Still, I thought it would be useful to double count the movies with multiple genres. An overwhelming majority of the movies were classified as \"drama,\" with crime, adventure, comedy, and action also being popular."
            ],
            "metadata": {
                "language": "sql",
                "azdata_cell_guid": "5e7f3aa8-3bd1-4c3d-9f41-f0dc8aa7d9a2"
            },
            "attachments": {}
        },
        {
            "cell_type": "code",
            "source": [
                "-- Breakdown by genre #2 \n",
                "SELECT value as 'Genre', COUNT(*) AS 'Count'\n",
                "FROM MoviesDB.dbo.IMDBtop400  \n",
                "    CROSS APPLY STRING_SPLIT(genre, ',')  \n",
                "GROUP BY value    \n",
                "ORDER BY COUNT(*) DESC;"
            ],
            "metadata": {
                "language": "sql",
                "azdata_cell_guid": "4aa06e7a-f498-4c87-95b4-f125d2ccef88"
            },
            "outputs": [
                {
                    "output_type": "display_data",
                    "data": {
                        "text/html": "(21 rows affected)"
                    },
                    "metadata": {}
                },
                {
                    "output_type": "display_data",
                    "data": {
                        "text/html": "Total execution time: 00:00:00.010"
                    },
                    "metadata": {}
                },
                {
                    "output_type": "execute_result",
                    "metadata": {},
                    "execution_count": 102,
                    "data": {
                        "application/vnd.dataresource+json": {
                            "schema": {
                                "fields": [
                                    {
                                        "name": "Genre"
                                    },
                                    {
                                        "name": "Count"
                                    }
                                ]
                            },
                            "data": [
                                {
                                    "0": "Drama",
                                    "1": "302"
                                },
                                {
                                    "0": "Crime",
                                    "1": "81"
                                },
                                {
                                    "0": "Adventure",
                                    "1": "80"
                                },
                                {
                                    "0": "Comedy",
                                    "1": "76"
                                },
                                {
                                    "0": "Action",
                                    "1": "75"
                                },
                                {
                                    "0": "Thriller",
                                    "1": "58"
                                },
                                {
                                    "0": "Biography",
                                    "1": "46"
                                },
                                {
                                    "0": "Romance",
                                    "1": "45"
                                },
                                {
                                    "0": "Mystery",
                                    "1": "43"
                                },
                                {
                                    "0": "Animation",
                                    "1": "34"
                                },
                                {
                                    "0": "Sci-Fi",
                                    "1": "27"
                                },
                                {
                                    "0": "War",
                                    "1": "25"
                                },
                                {
                                    "0": "History",
                                    "1": "23"
                                },
                                {
                                    "0": "Fantasy",
                                    "1": "23"
                                },
                                {
                                    "0": "Family",
                                    "1": "18"
                                },
                                {
                                    "0": "Music",
                                    "1": "10"
                                },
                                {
                                    "0": "Sport",
                                    "1": "8"
                                },
                                {
                                    "0": "Horror",
                                    "1": "7"
                                },
                                {
                                    "0": "Western",
                                    "1": "7"
                                },
                                {
                                    "0": "Musical",
                                    "1": "6"
                                },
                                {
                                    "0": "Film-Noir",
                                    "1": "5"
                                }
                            ]
                        },
                        "text/html": [
                            "<table>",
                            "<tr><th>Genre</th><th>Count</th></tr>",
                            "<tr><td>Drama</td><td>302</td></tr>",
                            "<tr><td>Crime</td><td>81</td></tr>",
                            "<tr><td>Adventure</td><td>80</td></tr>",
                            "<tr><td>Comedy</td><td>76</td></tr>",
                            "<tr><td>Action</td><td>75</td></tr>",
                            "<tr><td>Thriller</td><td>58</td></tr>",
                            "<tr><td>Biography</td><td>46</td></tr>",
                            "<tr><td>Romance</td><td>45</td></tr>",
                            "<tr><td>Mystery</td><td>43</td></tr>",
                            "<tr><td>Animation</td><td>34</td></tr>",
                            "<tr><td>Sci-Fi</td><td>27</td></tr>",
                            "<tr><td>War</td><td>25</td></tr>",
                            "<tr><td>History</td><td>23</td></tr>",
                            "<tr><td>Fantasy</td><td>23</td></tr>",
                            "<tr><td>Family</td><td>18</td></tr>",
                            "<tr><td>Music</td><td>10</td></tr>",
                            "<tr><td>Sport</td><td>8</td></tr>",
                            "<tr><td>Horror</td><td>7</td></tr>",
                            "<tr><td>Western</td><td>7</td></tr>",
                            "<tr><td>Musical</td><td>6</td></tr>",
                            "<tr><td>Film-Noir</td><td>5</td></tr>",
                            "</table>"
                        ]
                    }
                }
            ],
            "execution_count": 102
        },
        {
            "cell_type": "markdown",
            "source": [
                "**Popular directors:** Undoubtedly, there are some very well-known names in the list of 400 movies. I decided to query the most popular directors by splitting up the \"cast\" column, which contained both the actors and directors of the movie (probably due to the nature of data scraping). Surprisingly, 67 directors showed up at least twice, and one, Akira Kurosawa, even beat out the big names I am familiar with, such as Stanley Kubrick, Alfred Hitchcock and Martin Scorsese, with ten movies!"
            ],
            "metadata": {
                "language": "sql",
                "azdata_cell_guid": "de9ebe31-12cc-4954-868b-c3cd845d22e1"
            },
            "attachments": {}
        },
        {
            "cell_type": "code",
            "source": [
                "--Popular directors \n",
                "SELECT Director, COUNT(Title) AS 'Count'\n",
                "FROM\n",
                "-- Add a directors column \n",
                "(SELECT *,\n",
                "    CASE WHEN Cast LIKE '%Directors%' \n",
                "    THEN SUBSTRING(Cast, CHARINDEX('Directors: ', Cast) + 11, CHARINDEX('Stars: ', Cast) - 13)\n",
                "    ELSE SUBSTRING(Cast, CHARINDEX('Director: ', Cast) + 10, CHARINDEX('Stars: ', Cast) - 13)\n",
                "    END AS 'Director' \n",
                "FROM MoviesDB.dbo.IMDBtop400) AS T\n",
                "GROUP BY Director\n",
                "HAVING COUNT(Title) > 1\n",
                "ORDER BY Count DESC;\n",
                ""
            ],
            "metadata": {
                "language": "sql",
                "azdata_cell_guid": "fa54c0fd-ec18-4acc-8414-1397d6565c3a"
            },
            "outputs": [
                {
                    "output_type": "display_data",
                    "data": {
                        "text/html": "(67 rows affected)"
                    },
                    "metadata": {}
                },
                {
                    "output_type": "display_data",
                    "data": {
                        "text/html": "Total execution time: 00:00:00.025"
                    },
                    "metadata": {}
                },
                {
                    "output_type": "execute_result",
                    "metadata": {},
                    "execution_count": 103,
                    "data": {
                        "application/vnd.dataresource+json": {
                            "schema": {
                                "fields": [
                                    {
                                        "name": "Director"
                                    },
                                    {
                                        "name": "Count"
                                    }
                                ]
                            },
                            "data": [
                                {
                                    "0": "Akira Kurosawa ",
                                    "1": "10"
                                },
                                {
                                    "0": "Christopher Nolan ",
                                    "1": "7"
                                },
                                {
                                    "0": "Martin Scorsese ",
                                    "1": "7"
                                },
                                {
                                    "0": "Stanley Kubrick ",
                                    "1": "7"
                                },
                                {
                                    "0": "Steven Spielberg ",
                                    "1": "6"
                                },
                                {
                                    "0": "Charles Chaplin ",
                                    "1": "6"
                                },
                                {
                                    "0": "Quentin Tarantino ",
                                    "1": "6"
                                },
                                {
                                    "0": "Alfred Hitchcock ",
                                    "1": "6"
                                },
                                {
                                    "0": "Billy Wilder ",
                                    "1": "6"
                                },
                                {
                                    "0": "Ingmar Bergman ",
                                    "1": "6"
                                },
                                {
                                    "0": "Hayao Miyazaki ",
                                    "1": "5"
                                },
                                {
                                    "0": "Rajkumar Hirani ",
                                    "1": "4"
                                },
                                {
                                    "0": "Ridley Scott ",
                                    "1": "4"
                                },
                                {
                                    "0": "Sergio Leone ",
                                    "1": "4"
                                },
                                {
                                    "0": "Andrei Tarkovsky ",
                                    "1": "4"
                                },
                                {
                                    "0": "Clint Eastwood ",
                                    "1": "3"
                                },
                                {
                                    "0": "David Fincher ",
                                    "1": "3"
                                },
                                {
                                    "0": "David Lynch ",
                                    "1": "3"
                                },
                                {
                                    "0": "Denis Villeneuve ",
                                    "1": "3"
                                },
                                {
                                    "0": "Francis Ford Coppola ",
                                    "1": "3"
                                },
                                {
                                    "0": "Frank Capra ",
                                    "1": "3"
                                },
                                {
                                    "0": "Peter Jackson ",
                                    "1": "3"
                                },
                                {
                                    "0": "Ron Howard ",
                                    "1": "3"
                                },
                                {
                                    "0": "Neeraj Pandey ",
                                    "1": "3"
                                },
                                {
                                    "0": "Nitesh Tiwari ",
                                    "1": "2"
                                },
                                {
                                    "0": "Oliver Stone ",
                                    "1": "2"
                                },
                                {
                                    "0": "Paul Thomas Anderson ",
                                    "1": "2"
                                },
                                {
                                    "0": "Mel Gibson ",
                                    "1": "2"
                                },
                                {
                                    "0": "Milos Forman ",
                                    "1": "2"
                                },
                                {
                                    "0": "Rob Reiner ",
                                    "1": "2"
                                },
                                {
                                    "0": "Robert Zemeckis ",
                                    "1": "2"
                                },
                                {
                                    "0": "Roman Polanski ",
                                    "1": "2"
                                },
                                {
                                    "0": "Rakeysh Omprakash Mehra ",
                                    "1": "2"
                                },
                                {
                                    "0": "Richard Linklater ",
                                    "1": "2"
                                },
                                {
                                    "0": "S.S. Rajamouli ",
                                    "1": "2"
                                },
                                {
                                    "0": "Sam Mendes ",
                                    "1": "2"
                                },
                                {
                                    "0": "Peter Weir ",
                                    "1": "2"
                                },
                                {
                                    "0": "Sidney Lumet ",
                                    "1": "2"
                                },
                                {
                                    "0": "Stanley Kramer ",
                                    "1": "2"
                                },
                                {
                                    "0": "Stephen Chbosky ",
                                    "1": "2"
                                },
                                {
                                    "0": "Thomas Vinterberg ",
                                    "1": "2"
                                },
                                {
                                    "0": "Zoya Akhtar ",
                                    "1": "2"
                                },
                                {
                                    "0": "Frank Darabont ",
                                    "1": "2"
                                },
                                {
                                    "0": "Fritz Lang ",
                                    "1": "2"
                                },
                                {
                                    "0": "Giuseppe Tornatore ",
                                    "1": "2"
                                },
                                {
                                    "0": "Guy Ritchie ",
                                    "1": "2"
                                },
                                {
                                    "0": "Emir Kusturica ",
                                    "1": "2"
                                },
                                {
                                    "0": "Ernst Lubitsch ",
                                    "1": "2"
                                },
                                {
                                    "0": "Isao Takahata ",
                                    "1": "2"
                                },
                                {
                                    "0": "James Cameron ",
                                    "1": "2"
                                },
                                {
                                    "0": "Joel Coen,Ethan Coen |",
                                    "1": "2"
                                },
                                {
                                    "0": "Jose Padilha ",
                                    "1": "2"
                                },
                                {
                                    "0": "Kar-Wai Wong ",
                                    "1": "2"
                                },
                                {
                                    "0": "Ki-duk Kim ",
                                    "1": "2"
                                },
                                {
                                    "0": "Lars von Trier ",
                                    "1": "2"
                                },
                                {
                                    "0": "David Lean ",
                                    "1": "2"
                                },
                                {
                                    "0": "Alejandro G. Inarritu ",
                                    "1": "2"
                                },
                                {
                                    "0": "Damien Chazelle ",
                                    "1": "2"
                                },
                                {
                                    "0": "Darren Aronofsky ",
                                    "1": "2"
                                },
                                {
                                    "0": "Anthony Russo,Joe Russo |",
                                    "1": "2"
                                },
                                {
                                    "0": "Anurag Kashyap ",
                                    "1": "2"
                                },
                                {
                                    "0": "Asghar Farhadi ",
                                    "1": "2"
                                },
                                {
                                    "0": "Ashutosh Gowariker ",
                                    "1": "2"
                                },
                                {
                                    "0": "Bong Joon Ho ",
                                    "1": "2"
                                },
                                {
                                    "0": "Brad Bird ",
                                    "1": "2"
                                },
                                {
                                    "0": "Bryan Singer ",
                                    "1": "2"
                                },
                                {
                                    "0": "Chan-wook Park ",
                                    "1": "2"
                                }
                            ]
                        },
                        "text/html": [
                            "<table>",
                            "<tr><th>Director</th><th>Count</th></tr>",
                            "<tr><td>Akira Kurosawa </td><td>10</td></tr>",
                            "<tr><td>Christopher Nolan </td><td>7</td></tr>",
                            "<tr><td>Martin Scorsese </td><td>7</td></tr>",
                            "<tr><td>Stanley Kubrick </td><td>7</td></tr>",
                            "<tr><td>Steven Spielberg </td><td>6</td></tr>",
                            "<tr><td>Charles Chaplin </td><td>6</td></tr>",
                            "<tr><td>Quentin Tarantino </td><td>6</td></tr>",
                            "<tr><td>Alfred Hitchcock </td><td>6</td></tr>",
                            "<tr><td>Billy Wilder </td><td>6</td></tr>",
                            "<tr><td>Ingmar Bergman </td><td>6</td></tr>",
                            "<tr><td>Hayao Miyazaki </td><td>5</td></tr>",
                            "<tr><td>Rajkumar Hirani </td><td>4</td></tr>",
                            "<tr><td>Ridley Scott </td><td>4</td></tr>",
                            "<tr><td>Sergio Leone </td><td>4</td></tr>",
                            "<tr><td>Andrei Tarkovsky </td><td>4</td></tr>",
                            "<tr><td>Clint Eastwood </td><td>3</td></tr>",
                            "<tr><td>David Fincher </td><td>3</td></tr>",
                            "<tr><td>David Lynch </td><td>3</td></tr>",
                            "<tr><td>Denis Villeneuve </td><td>3</td></tr>",
                            "<tr><td>Francis Ford Coppola </td><td>3</td></tr>",
                            "<tr><td>Frank Capra </td><td>3</td></tr>",
                            "<tr><td>Peter Jackson </td><td>3</td></tr>",
                            "<tr><td>Ron Howard </td><td>3</td></tr>",
                            "<tr><td>Neeraj Pandey </td><td>3</td></tr>",
                            "<tr><td>Nitesh Tiwari </td><td>2</td></tr>",
                            "<tr><td>Oliver Stone </td><td>2</td></tr>",
                            "<tr><td>Paul Thomas Anderson </td><td>2</td></tr>",
                            "<tr><td>Mel Gibson </td><td>2</td></tr>",
                            "<tr><td>Milos Forman </td><td>2</td></tr>",
                            "<tr><td>Rob Reiner </td><td>2</td></tr>",
                            "<tr><td>Robert Zemeckis </td><td>2</td></tr>",
                            "<tr><td>Roman Polanski </td><td>2</td></tr>",
                            "<tr><td>Rakeysh Omprakash Mehra </td><td>2</td></tr>",
                            "<tr><td>Richard Linklater </td><td>2</td></tr>",
                            "<tr><td>S.S. Rajamouli </td><td>2</td></tr>",
                            "<tr><td>Sam Mendes </td><td>2</td></tr>",
                            "<tr><td>Peter Weir </td><td>2</td></tr>",
                            "<tr><td>Sidney Lumet </td><td>2</td></tr>",
                            "<tr><td>Stanley Kramer </td><td>2</td></tr>",
                            "<tr><td>Stephen Chbosky </td><td>2</td></tr>",
                            "<tr><td>Thomas Vinterberg </td><td>2</td></tr>",
                            "<tr><td>Zoya Akhtar </td><td>2</td></tr>",
                            "<tr><td>Frank Darabont </td><td>2</td></tr>",
                            "<tr><td>Fritz Lang </td><td>2</td></tr>",
                            "<tr><td>Giuseppe Tornatore </td><td>2</td></tr>",
                            "<tr><td>Guy Ritchie </td><td>2</td></tr>",
                            "<tr><td>Emir Kusturica </td><td>2</td></tr>",
                            "<tr><td>Ernst Lubitsch </td><td>2</td></tr>",
                            "<tr><td>Isao Takahata </td><td>2</td></tr>",
                            "<tr><td>James Cameron </td><td>2</td></tr>",
                            "<tr><td>Joel Coen,Ethan Coen |</td><td>2</td></tr>",
                            "<tr><td>Jose Padilha </td><td>2</td></tr>",
                            "<tr><td>Kar-Wai Wong </td><td>2</td></tr>",
                            "<tr><td>Ki-duk Kim </td><td>2</td></tr>",
                            "<tr><td>Lars von Trier </td><td>2</td></tr>",
                            "<tr><td>David Lean </td><td>2</td></tr>",
                            "<tr><td>Alejandro G. Inarritu </td><td>2</td></tr>",
                            "<tr><td>Damien Chazelle </td><td>2</td></tr>",
                            "<tr><td>Darren Aronofsky </td><td>2</td></tr>",
                            "<tr><td>Anthony Russo,Joe Russo |</td><td>2</td></tr>",
                            "<tr><td>Anurag Kashyap </td><td>2</td></tr>",
                            "<tr><td>Asghar Farhadi </td><td>2</td></tr>",
                            "<tr><td>Ashutosh Gowariker </td><td>2</td></tr>",
                            "<tr><td>Bong Joon Ho </td><td>2</td></tr>",
                            "<tr><td>Brad Bird </td><td>2</td></tr>",
                            "<tr><td>Bryan Singer </td><td>2</td></tr>",
                            "<tr><td>Chan-wook Park </td><td>2</td></tr>",
                            "</table>"
                        ]
                    }
                }
            ],
            "execution_count": 103
        },
        {
            "cell_type": "markdown",
            "source": [
                "**Popular actors:** Next, I wanted to see what actors were popular. The most popular American actor was Robert De Niro, while India's Aamir Khan and Japan's Toshiro Mifune followed closely. I thought the gender gap was interesting; the first female name on the list is Scarlett Johansson, who appeared in four movies (and only plays a main character in one)."
            ],
            "metadata": {
                "language": "sql",
                "azdata_cell_guid": "3a50be90-7d27-4327-93d6-698c34c17ffd"
            },
            "attachments": {}
        },
        {
            "cell_type": "code",
            "source": [
                "--Popular actors \n",
                " SELECT value as 'Star', COUNT(*) AS 'Count'\n",
                "FROM \n",
                "-- Creates new column with just the actors \n",
                "(SELECT *, \n",
                "    SUBSTRING(Cast, CHARINDEX('Stars: ', Cast) + 7, len(Cast)) AS 'Stars' \n",
                "FROM MoviesDB.dbo.IMDBtop400) AS T  \n",
                "    CROSS APPLY STRING_SPLIT(Stars, ',')  \n",
                "GROUP BY value \n",
                "HAVING COUNT(*) > 1    \n",
                "ORDER BY COUNT(*) DESC;"
            ],
            "metadata": {
                "language": "sql",
                "azdata_cell_guid": "a8dd0ecc-3b08-4db7-a339-8f3a2a05e7e1"
            },
            "outputs": [
                {
                    "output_type": "display_data",
                    "data": {
                        "text/html": "(218 rows affected)"
                    },
                    "metadata": {}
                },
                {
                    "output_type": "display_data",
                    "data": {
                        "text/html": "Total execution time: 00:00:00.030"
                    },
                    "metadata": {}
                },
                {
                    "output_type": "execute_result",
                    "metadata": {},
                    "execution_count": 109,
                    "data": {
                        "application/vnd.dataresource+json": {
                            "schema": {
                                "fields": [
                                    {
                                        "name": "Star"
                                    },
                                    {
                                        "name": "Count"
                                    }
                                ]
                            },
                            "data": [
                                {
                                    "0": "Robert De Niro",
                                    "1": "9"
                                },
                                {
                                    "0": "Leonardo DiCaprio",
                                    "1": "8"
                                },
                                {
                                    "0": "Aamir Khan",
                                    "1": "8"
                                },
                                {
                                    "0": "Toshiro Mifune",
                                    "1": "7"
                                },
                                {
                                    "0": "Harrison Ford",
                                    "1": "7"
                                },
                                {
                                    "0": "James Stewart",
                                    "1": "6"
                                },
                                {
                                    "0": "Charles Chaplin",
                                    "1": "6"
                                },
                                {
                                    "0": "Brad Pitt",
                                    "1": "6"
                                },
                                {
                                    "0": "Tom Hanks",
                                    "1": "6"
                                },
                                {
                                    "0": "Matt Damon",
                                    "1": "6"
                                },
                                {
                                    "0": "Shah Rukh Khan",
                                    "1": "5"
                                },
                                {
                                    "0": "Bruce Willis",
                                    "1": "5"
                                },
                                {
                                    "0": "Al Pacino",
                                    "1": "5"
                                },
                                {
                                    "0": "Tatsuya Nakadai",
                                    "1": "5"
                                },
                                {
                                    "0": "Clint Eastwood",
                                    "1": "5"
                                },
                                {
                                    "0": "Christian Bale",
                                    "1": "5"
                                },
                                {
                                    "0": "Akshay Kumar",
                                    "1": "5"
                                },
                                {
                                    "0": "Amitabh Bachchan",
                                    "1": "4"
                                },
                                {
                                    "0": "Scarlett Johansson",
                                    "1": "4"
                                },
                                {
                                    "0": "Jack Nicholson",
                                    "1": "4"
                                },
                                {
                                    "0": "Orlando Bloom",
                                    "1": "4"
                                },
                                {
                                    "0": "Joaquin Phoenix",
                                    "1": "4"
                                },
                                {
                                    "0": "Takashi Shimura",
                                    "1": "4"
                                },
                                {
                                    "0": "Tom Hardy",
                                    "1": "4"
                                },
                                {
                                    "0": "Morgan Freeman",
                                    "1": "4"
                                },
                                {
                                    "0": "Russell Crowe",
                                    "1": "4"
                                },
                                {
                                    "0": "Kevin Spacey",
                                    "1": "4"
                                },
                                {
                                    "0": "Mark Ruffalo",
                                    "1": "4"
                                },
                                {
                                    "0": "Tabu",
                                    "1": "4"
                                },
                                {
                                    "0": "Uma Thurman",
                                    "1": "3"
                                },
                                {
                                    "0": "Rana Daggubati",
                                    "1": "3"
                                },
                                {
                                    "0": "Ethan Hawke",
                                    "1": "3"
                                },
                                {
                                    "0": "Mark Hamill",
                                    "1": "3"
                                },
                                {
                                    "0": "Robert Downey Jr.",
                                    "1": "3"
                                },
                                {
                                    "0": "Michael Caine",
                                    "1": "3"
                                },
                                {
                                    "0": "Jennifer Connelly",
                                    "1": "3"
                                },
                                {
                                    "0": "Alec Guinness",
                                    "1": "3"
                                },
                                {
                                    "0": "Sanjay Dutt",
                                    "1": "3"
                                },
                                {
                                    "0": "Matthew McConaughey",
                                    "1": "3"
                                },
                                {
                                    "0": "Gunnar Björnstrand",
                                    "1": "3"
                                },
                                {
                                    "0": "Jack Lemmon",
                                    "1": "3"
                                },
                                {
                                    "0": "Michael Madsen",
                                    "1": "3"
                                },
                                {
                                    "0": "Chris Evans",
                                    "1": "3"
                                },
                                {
                                    "0": "Robin Williams",
                                    "1": "3"
                                },
                                {
                                    "0": "Gary Oldman",
                                    "1": "3"
                                },
                                {
                                    "0": "William Holden",
                                    "1": "3"
                                },
                                {
                                    "0": "Elijah Wood",
                                    "1": "3"
                                },
                                {
                                    "0": "Nawazuddin Siddiqui",
                                    "1": "3"
                                },
                                {
                                    "0": "J.K. Simmons",
                                    "1": "3"
                                },
                                {
                                    "0": "Jack Hawkins",
                                    "1": "3"
                                },
                                {
                                    "0": "Ian McKellen",
                                    "1": "3"
                                },
                                {
                                    "0": "Carrie Fisher",
                                    "1": "3"
                                },
                                {
                                    "0": "Marlon Brando",
                                    "1": "3"
                                },
                                {
                                    "0": "Paresh Rawal",
                                    "1": "3"
                                },
                                {
                                    "0": "Steve Buscemi",
                                    "1": "3"
                                },
                                {
                                    "0": "Willem Dafoe",
                                    "1": "3"
                                },
                                {
                                    "0": "Viggo Mortensen",
                                    "1": "3"
                                },
                                {
                                    "0": "Robert Duvall",
                                    "1": "3"
                                },
                                {
                                    "0": "Tony Chiu-Wai Leung",
                                    "1": "3"
                                },
                                {
                                    "0": "Chris Hemsworth",
                                    "1": "3"
                                },
                                {
                                    "0": "Joe Pesci",
                                    "1": "3"
                                },
                                {
                                    "0": "Natalie Portman",
                                    "1": "3"
                                },
                                {
                                    "0": "Viola Davis",
                                    "1": "2"
                                },
                                {
                                    "0": "Peter Stormare",
                                    "1": "2"
                                },
                                {
                                    "0": "Nikolay Grinko",
                                    "1": "2"
                                },
                                {
                                    "0": "Bette Davis",
                                    "1": "2"
                                },
                                {
                                    "0": "Samuel L. Jackson",
                                    "1": "2"
                                },
                                {
                                    "0": "Vidya Balan",
                                    "1": "2"
                                },
                                {
                                    "0": "Chris Sarandon",
                                    "1": "2"
                                },
                                {
                                    "0": "Edward Furlong",
                                    "1": "2"
                                },
                                {
                                    "0": "Abhay Deol",
                                    "1": "2"
                                },
                                {
                                    "0": "Carrie-Anne Moss",
                                    "1": "2"
                                },
                                {
                                    "0": "Terry Gilliam",
                                    "1": "2"
                                },
                                {
                                    "0": "Hugh Jackman",
                                    "1": "2"
                                },
                                {
                                    "0": "Lee Van Cleef",
                                    "1": "2"
                                },
                                {
                                    "0": "Rooney Mara",
                                    "1": "2"
                                },
                                {
                                    "0": "Julianne Moore",
                                    "1": "2"
                                },
                                {
                                    "0": "Guy Pearce",
                                    "1": "2"
                                },
                                {
                                    "0": "Sohum Shah",
                                    "1": "2"
                                },
                                {
                                    "0": "Christopher Walken",
                                    "1": "2"
                                },
                                {
                                    "0": "Minoru Chiaki",
                                    "1": "2"
                                },
                                {
                                    "0": "Jared Leto",
                                    "1": "2"
                                },
                                {
                                    "0": "Liam Neeson",
                                    "1": "2"
                                },
                                {
                                    "0": "Richard Attenborough",
                                    "1": "2"
                                },
                                {
                                    "0": "Burt Lancaster",
                                    "1": "2"
                                },
                                {
                                    "0": "Miyu Irino",
                                    "1": "2"
                                },
                                {
                                    "0": "Robin Wright",
                                    "1": "2"
                                },
                                {
                                    "0": "Vera Miles",
                                    "1": "2"
                                },
                                {
                                    "0": "Graham Chapman",
                                    "1": "2"
                                },
                                {
                                    "0": "Mathieu Amalric",
                                    "1": "2"
                                },
                                {
                                    "0": "Keith David",
                                    "1": "2"
                                },
                                {
                                    "0": "Alexandra Maria Lara",
                                    "1": "2"
                                },
                                {
                                    "0": "Albert Brooks",
                                    "1": "2"
                                },
                                {
                                    "0": "Colin Firth",
                                    "1": "2"
                                },
                                {
                                    "0": "John Cleese",
                                    "1": "2"
                                },
                                {
                                    "0": "Gracy Singh",
                                    "1": "2"
                                },
                                {
                                    "0": "Edward Norton",
                                    "1": "2"
                                },
                                {
                                    "0": "Liv Ullmann",
                                    "1": "2"
                                },
                                {
                                    "0": "Gene Kelly",
                                    "1": "2"
                                },
                                {
                                    "0": "Emma Watson",
                                    "1": "2"
                                },
                                {
                                    "0": "Salman Khan",
                                    "1": "2"
                                },
                                {
                                    "0": "Paulette Goddard",
                                    "1": "2"
                                },
                                {
                                    "0": "Billy Crudup",
                                    "1": "2"
                                },
                                {
                                    "0": "Catherine Deneuve",
                                    "1": "2"
                                },
                                {
                                    "0": "Jodie Foster",
                                    "1": "2"
                                },
                                {
                                    "0": "Ralph Fiennes",
                                    "1": "2"
                                },
                                {
                                    "0": "Farhan Akhtar",
                                    "1": "2"
                                },
                                {
                                    "0": "Irene Papas",
                                    "1": "2"
                                },
                                {
                                    "0": "Harriet Andersson",
                                    "1": "2"
                                },
                                {
                                    "0": "Preity Zinta",
                                    "1": "2"
                                },
                                {
                                    "0": "Paul Reiser",
                                    "1": "2"
                                },
                                {
                                    "0": "Arshad Warsi",
                                    "1": "2"
                                },
                                {
                                    "0": "Erich von Stroheim",
                                    "1": "2"
                                },
                                {
                                    "0": "Sanya Malhotra",
                                    "1": "2"
                                },
                                {
                                    "0": "Jimmy Sheirgill",
                                    "1": "2"
                                },
                                {
                                    "0": "Orson Welles",
                                    "1": "2"
                                },
                                {
                                    "0": "Wagner Moura",
                                    "1": "2"
                                },
                                {
                                    "0": "Andre Ramiro",
                                    "1": "2"
                                },
                                {
                                    "0": "Saurabh Shukla",
                                    "1": "2"
                                },
                                {
                                    "0": "Daryl Hannah",
                                    "1": "2"
                                },
                                {
                                    "0": "Anatoliy Solonitsyn",
                                    "1": "2"
                                },
                                {
                                    "0": "Sharman Joshi",
                                    "1": "2"
                                },
                                {
                                    "0": "Sigourney Weaver",
                                    "1": "2"
                                },
                                {
                                    "0": "Daniel Day-Lewis",
                                    "1": "2"
                                },
                                {
                                    "0": "Dev Patel",
                                    "1": "2"
                                },
                                {
                                    "0": "Paul Newman",
                                    "1": "2"
                                },
                                {
                                    "0": "Buster Keaton",
                                    "1": "2"
                                },
                                {
                                    "0": "Shraddha Kapoor",
                                    "1": "2"
                                },
                                {
                                    "0": "Humphrey Bogart",
                                    "1": "2"
                                },
                                {
                                    "0": "Hugo Weaving",
                                    "1": "2"
                                },
                                {
                                    "0": "Jake Gyllenhaal",
                                    "1": "2"
                                },
                                {
                                    "0": "Toni Collette",
                                    "1": "2"
                                },
                                {
                                    "0": "Milhem Cortaz",
                                    "1": "2"
                                },
                                {
                                    "0": "Anthony Hopkins",
                                    "1": "2"
                                },
                                {
                                    "0": "Julie Delpy",
                                    "1": "2"
                                },
                                {
                                    "0": "Benjamin Bratt",
                                    "1": "2"
                                },
                                {
                                    "0": "David Morse",
                                    "1": "2"
                                },
                                {
                                    "0": "Manoj Bajpayee",
                                    "1": "2"
                                },
                                {
                                    "0": "John Goodman",
                                    "1": "2"
                                },
                                {
                                    "0": "Ingrid Thulin",
                                    "1": "2"
                                },
                                {
                                    "0": "Mahie Gill",
                                    "1": "2"
                                },
                                {
                                    "0": "Mahershala Ali",
                                    "1": "2"
                                },
                                {
                                    "0": "James Caan",
                                    "1": "2"
                                },
                                {
                                    "0": "Philip Seymour Hoffman",
                                    "1": "2"
                                },
                                {
                                    "0": "Çetin Tekindor",
                                    "1": "2"
                                },
                                {
                                    "0": "Ayushmann Khurrana",
                                    "1": "2"
                                },
                                {
                                    "0": "Bibi Andersson",
                                    "1": "2"
                                },
                                {
                                    "0": "Kang-ho Song",
                                    "1": "2"
                                },
                                {
                                    "0": "Geoffrey Rush",
                                    "1": "2"
                                },
                                {
                                    "0": "Ryan Gosling",
                                    "1": "2"
                                },
                                {
                                    "0": "Claudia Cardinale",
                                    "1": "2"
                                },
                                {
                                    "0": "Tim Roth",
                                    "1": "2"
                                },
                                {
                                    "0": "Marlene Dietrich",
                                    "1": "2"
                                },
                                {
                                    "0": "Spencer Tracy",
                                    "1": "2"
                                },
                                {
                                    "0": "Grace Kelly",
                                    "1": "2"
                                },
                                {
                                    "0": "Ryan O'Neal",
                                    "1": "2"
                                },
                                {
                                    "0": "Lee J. Cobb",
                                    "1": "2"
                                },
                                {
                                    "0": "Martin Sheen",
                                    "1": "2"
                                },
                                {
                                    "0": "Yves Montand",
                                    "1": "2"
                                },
                                {
                                    "0": "Tim Allen",
                                    "1": "2"
                                },
                                {
                                    "0": "Joseph Cotten",
                                    "1": "2"
                                },
                                {
                                    "0": "Anne Hathaway",
                                    "1": "2"
                                },
                                {
                                    "0": "Thomas Mitchell",
                                    "1": "2"
                                },
                                {
                                    "0": "Thomas Bo Larsen",
                                    "1": "2"
                                },
                                {
                                    "0": "Saif Ali Khan",
                                    "1": "2"
                                },
                                {
                                    "0": "Henry Bergman",
                                    "1": "2"
                                },
                                {
                                    "0": "Ed Harris",
                                    "1": "2"
                                },
                                {
                                    "0": "Jason Statham",
                                    "1": "2"
                                },
                                {
                                    "0": "Jim Carrey",
                                    "1": "2"
                                },
                                {
                                    "0": "Taapsee Pannu",
                                    "1": "2"
                                },
                                {
                                    "0": "Jason Robards",
                                    "1": "2"
                                },
                                {
                                    "0": "George Sanders",
                                    "1": "2"
                                },
                                {
                                    "0": "Henry Fonda",
                                    "1": "2"
                                },
                                {
                                    "0": "Faye Dunaway",
                                    "1": "2"
                                },
                                {
                                    "0": "Vin Diesel",
                                    "1": "2"
                                },
                                {
                                    "0": "Billy Dee Williams",
                                    "1": "2"
                                },
                                {
                                    "0": "Woody Harrelson",
                                    "1": "2"
                                },
                                {
                                    "0": "Boman Irani",
                                    "1": "2"
                                },
                                {
                                    "0": "Irrfan Khan",
                                    "1": "2"
                                },
                                {
                                    "0": "Emma Stone",
                                    "1": "2"
                                },
                                {
                                    "0": "Demet Akbag",
                                    "1": "2"
                                },
                                {
                                    "0": "Ben Affleck",
                                    "1": "2"
                                },
                                {
                                    "0": "Javier Bardem",
                                    "1": "2"
                                },
                                {
                                    "0": "Gael Garcia Bernal",
                                    "1": "2"
                                },
                                {
                                    "0": "Max von Sydow",
                                    "1": "2"
                                },
                                {
                                    "0": "Frances McDormand",
                                    "1": "2"
                                },
                                {
                                    "0": "James Woods",
                                    "1": "2"
                                },
                                {
                                    "0": "Cem Yilmaz",
                                    "1": "2"
                                },
                                {
                                    "0": "Kirk Douglas",
                                    "1": "2"
                                },
                                {
                                    "0": "F. Murray Abraham",
                                    "1": "2"
                                },
                                {
                                    "0": "Keira Knightley",
                                    "1": "2"
                                },
                                {
                                    "0": "Jessica Chastain",
                                    "1": "2"
                                },
                                {
                                    "0": "Anthony Quinn",
                                    "1": "2"
                                },
                                {
                                    "0": "Jay Baruchel",
                                    "1": "2"
                                },
                                {
                                    "0": "John Hurt",
                                    "1": "2"
                                },
                                {
                                    "0": "Claude Rains",
                                    "1": "2"
                                },
                                {
                                    "0": "Jean-Louis Trintignant",
                                    "1": "2"
                                },
                                {
                                    "0": "Tony Curtis",
                                    "1": "2"
                                },
                                {
                                    "0": "Christopher Plummer",
                                    "1": "2"
                                },
                                {
                                    "0": "Patrick Magee",
                                    "1": "2"
                                },
                                {
                                    "0": "Joan Allen",
                                    "1": "2"
                                },
                                {
                                    "0": "Ben Kingsley",
                                    "1": "2"
                                },
                                {
                                    "0": "Charles Bronson",
                                    "1": "2"
                                },
                                {
                                    "0": "Fred MacMurray",
                                    "1": "2"
                                },
                                {
                                    "0": "Vincent Cassel",
                                    "1": "2"
                                },
                                {
                                    "0": "Kajol",
                                    "1": "2"
                                },
                                {
                                    "0": "Clark Gable",
                                    "1": "2"
                                },
                                {
                                    "0": "Adrien Brody",
                                    "1": "2"
                                },
                                {
                                    "0": "Shahab Hosseini",
                                    "1": "2"
                                },
                                {
                                    "0": "David Carradine",
                                    "1": "2"
                                },
                                {
                                    "0": "Francois Perier",
                                    "1": "2"
                                },
                                {
                                    "0": "Prabhas",
                                    "1": "2"
                                },
                                {
                                    "0": "Ewan McGregor",
                                    "1": "2"
                                },
                                {
                                    "0": "Diane Keaton",
                                    "1": "2"
                                },
                                {
                                    "0": "Ken Watanabe",
                                    "1": "2"
                                },
                                {
                                    "0": "Anupam Kher",
                                    "1": "2"
                                },
                                {
                                    "0": "Nicole Kidman",
                                    "1": "2"
                                },
                                {
                                    "0": "Aoi Yûki",
                                    "1": "2"
                                }
                            ]
                        },
                        "text/html": [
                            "<table>",
                            "<tr><th>Star</th><th>Count</th></tr>",
                            "<tr><td>Robert De Niro</td><td>9</td></tr>",
                            "<tr><td>Leonardo DiCaprio</td><td>8</td></tr>",
                            "<tr><td>Aamir Khan</td><td>8</td></tr>",
                            "<tr><td>Toshiro Mifune</td><td>7</td></tr>",
                            "<tr><td>Harrison Ford</td><td>7</td></tr>",
                            "<tr><td>James Stewart</td><td>6</td></tr>",
                            "<tr><td>Charles Chaplin</td><td>6</td></tr>",
                            "<tr><td>Brad Pitt</td><td>6</td></tr>",
                            "<tr><td>Tom Hanks</td><td>6</td></tr>",
                            "<tr><td>Matt Damon</td><td>6</td></tr>",
                            "<tr><td>Shah Rukh Khan</td><td>5</td></tr>",
                            "<tr><td>Bruce Willis</td><td>5</td></tr>",
                            "<tr><td>Al Pacino</td><td>5</td></tr>",
                            "<tr><td>Tatsuya Nakadai</td><td>5</td></tr>",
                            "<tr><td>Clint Eastwood</td><td>5</td></tr>",
                            "<tr><td>Christian Bale</td><td>5</td></tr>",
                            "<tr><td>Akshay Kumar</td><td>5</td></tr>",
                            "<tr><td>Amitabh Bachchan</td><td>4</td></tr>",
                            "<tr><td>Scarlett Johansson</td><td>4</td></tr>",
                            "<tr><td>Jack Nicholson</td><td>4</td></tr>",
                            "<tr><td>Orlando Bloom</td><td>4</td></tr>",
                            "<tr><td>Joaquin Phoenix</td><td>4</td></tr>",
                            "<tr><td>Takashi Shimura</td><td>4</td></tr>",
                            "<tr><td>Tom Hardy</td><td>4</td></tr>",
                            "<tr><td>Morgan Freeman</td><td>4</td></tr>",
                            "<tr><td>Russell Crowe</td><td>4</td></tr>",
                            "<tr><td>Kevin Spacey</td><td>4</td></tr>",
                            "<tr><td>Mark Ruffalo</td><td>4</td></tr>",
                            "<tr><td>Tabu</td><td>4</td></tr>",
                            "<tr><td>Uma Thurman</td><td>3</td></tr>",
                            "<tr><td>Rana Daggubati</td><td>3</td></tr>",
                            "<tr><td>Ethan Hawke</td><td>3</td></tr>",
                            "<tr><td>Mark Hamill</td><td>3</td></tr>",
                            "<tr><td>Robert Downey Jr.</td><td>3</td></tr>",
                            "<tr><td>Michael Caine</td><td>3</td></tr>",
                            "<tr><td>Jennifer Connelly</td><td>3</td></tr>",
                            "<tr><td>Alec Guinness</td><td>3</td></tr>",
                            "<tr><td>Sanjay Dutt</td><td>3</td></tr>",
                            "<tr><td>Matthew McConaughey</td><td>3</td></tr>",
                            "<tr><td>Gunnar Björnstrand</td><td>3</td></tr>",
                            "<tr><td>Jack Lemmon</td><td>3</td></tr>",
                            "<tr><td>Michael Madsen</td><td>3</td></tr>",
                            "<tr><td>Chris Evans</td><td>3</td></tr>",
                            "<tr><td>Robin Williams</td><td>3</td></tr>",
                            "<tr><td>Gary Oldman</td><td>3</td></tr>",
                            "<tr><td>William Holden</td><td>3</td></tr>",
                            "<tr><td>Elijah Wood</td><td>3</td></tr>",
                            "<tr><td>Nawazuddin Siddiqui</td><td>3</td></tr>",
                            "<tr><td>J.K. Simmons</td><td>3</td></tr>",
                            "<tr><td>Jack Hawkins</td><td>3</td></tr>",
                            "<tr><td>Ian McKellen</td><td>3</td></tr>",
                            "<tr><td>Carrie Fisher</td><td>3</td></tr>",
                            "<tr><td>Marlon Brando</td><td>3</td></tr>",
                            "<tr><td>Paresh Rawal</td><td>3</td></tr>",
                            "<tr><td>Steve Buscemi</td><td>3</td></tr>",
                            "<tr><td>Willem Dafoe</td><td>3</td></tr>",
                            "<tr><td>Viggo Mortensen</td><td>3</td></tr>",
                            "<tr><td>Robert Duvall</td><td>3</td></tr>",
                            "<tr><td>Tony Chiu-Wai Leung</td><td>3</td></tr>",
                            "<tr><td>Chris Hemsworth</td><td>3</td></tr>",
                            "<tr><td>Joe Pesci</td><td>3</td></tr>",
                            "<tr><td>Natalie Portman</td><td>3</td></tr>",
                            "<tr><td>Viola Davis</td><td>2</td></tr>",
                            "<tr><td>Peter Stormare</td><td>2</td></tr>",
                            "<tr><td>Nikolay Grinko</td><td>2</td></tr>",
                            "<tr><td>Bette Davis</td><td>2</td></tr>",
                            "<tr><td>Samuel L. Jackson</td><td>2</td></tr>",
                            "<tr><td>Vidya Balan</td><td>2</td></tr>",
                            "<tr><td>Chris Sarandon</td><td>2</td></tr>",
                            "<tr><td>Edward Furlong</td><td>2</td></tr>",
                            "<tr><td>Abhay Deol</td><td>2</td></tr>",
                            "<tr><td>Carrie-Anne Moss</td><td>2</td></tr>",
                            "<tr><td>Terry Gilliam</td><td>2</td></tr>",
                            "<tr><td>Hugh Jackman</td><td>2</td></tr>",
                            "<tr><td>Lee Van Cleef</td><td>2</td></tr>",
                            "<tr><td>Rooney Mara</td><td>2</td></tr>",
                            "<tr><td>Julianne Moore</td><td>2</td></tr>",
                            "<tr><td>Guy Pearce</td><td>2</td></tr>",
                            "<tr><td>Sohum Shah</td><td>2</td></tr>",
                            "<tr><td>Christopher Walken</td><td>2</td></tr>",
                            "<tr><td>Minoru Chiaki</td><td>2</td></tr>",
                            "<tr><td>Jared Leto</td><td>2</td></tr>",
                            "<tr><td>Liam Neeson</td><td>2</td></tr>",
                            "<tr><td>Richard Attenborough</td><td>2</td></tr>",
                            "<tr><td>Burt Lancaster</td><td>2</td></tr>",
                            "<tr><td>Miyu Irino</td><td>2</td></tr>",
                            "<tr><td>Robin Wright</td><td>2</td></tr>",
                            "<tr><td>Vera Miles</td><td>2</td></tr>",
                            "<tr><td>Graham Chapman</td><td>2</td></tr>",
                            "<tr><td>Mathieu Amalric</td><td>2</td></tr>",
                            "<tr><td>Keith David</td><td>2</td></tr>",
                            "<tr><td>Alexandra Maria Lara</td><td>2</td></tr>",
                            "<tr><td>Albert Brooks</td><td>2</td></tr>",
                            "<tr><td>Colin Firth</td><td>2</td></tr>",
                            "<tr><td>John Cleese</td><td>2</td></tr>",
                            "<tr><td>Gracy Singh</td><td>2</td></tr>",
                            "<tr><td>Edward Norton</td><td>2</td></tr>",
                            "<tr><td>Liv Ullmann</td><td>2</td></tr>",
                            "<tr><td>Gene Kelly</td><td>2</td></tr>",
                            "<tr><td>Emma Watson</td><td>2</td></tr>",
                            "<tr><td>Salman Khan</td><td>2</td></tr>",
                            "<tr><td>Paulette Goddard</td><td>2</td></tr>",
                            "<tr><td>Billy Crudup</td><td>2</td></tr>",
                            "<tr><td>Catherine Deneuve</td><td>2</td></tr>",
                            "<tr><td>Jodie Foster</td><td>2</td></tr>",
                            "<tr><td>Ralph Fiennes</td><td>2</td></tr>",
                            "<tr><td>Farhan Akhtar</td><td>2</td></tr>",
                            "<tr><td>Irene Papas</td><td>2</td></tr>",
                            "<tr><td>Harriet Andersson</td><td>2</td></tr>",
                            "<tr><td>Preity Zinta</td><td>2</td></tr>",
                            "<tr><td>Paul Reiser</td><td>2</td></tr>",
                            "<tr><td>Arshad Warsi</td><td>2</td></tr>",
                            "<tr><td>Erich von Stroheim</td><td>2</td></tr>",
                            "<tr><td>Sanya Malhotra</td><td>2</td></tr>",
                            "<tr><td>Jimmy Sheirgill</td><td>2</td></tr>",
                            "<tr><td>Orson Welles</td><td>2</td></tr>",
                            "<tr><td>Wagner Moura</td><td>2</td></tr>",
                            "<tr><td>Andre Ramiro</td><td>2</td></tr>",
                            "<tr><td>Saurabh Shukla</td><td>2</td></tr>",
                            "<tr><td>Daryl Hannah</td><td>2</td></tr>",
                            "<tr><td>Anatoliy Solonitsyn</td><td>2</td></tr>",
                            "<tr><td>Sharman Joshi</td><td>2</td></tr>",
                            "<tr><td>Sigourney Weaver</td><td>2</td></tr>",
                            "<tr><td>Daniel Day-Lewis</td><td>2</td></tr>",
                            "<tr><td>Dev Patel</td><td>2</td></tr>",
                            "<tr><td>Paul Newman</td><td>2</td></tr>",
                            "<tr><td>Buster Keaton</td><td>2</td></tr>",
                            "<tr><td>Shraddha Kapoor</td><td>2</td></tr>",
                            "<tr><td>Humphrey Bogart</td><td>2</td></tr>",
                            "<tr><td>Hugo Weaving</td><td>2</td></tr>",
                            "<tr><td>Jake Gyllenhaal</td><td>2</td></tr>",
                            "<tr><td>Toni Collette</td><td>2</td></tr>",
                            "<tr><td>Milhem Cortaz</td><td>2</td></tr>",
                            "<tr><td>Anthony Hopkins</td><td>2</td></tr>",
                            "<tr><td>Julie Delpy</td><td>2</td></tr>",
                            "<tr><td>Benjamin Bratt</td><td>2</td></tr>",
                            "<tr><td>David Morse</td><td>2</td></tr>",
                            "<tr><td>Manoj Bajpayee</td><td>2</td></tr>",
                            "<tr><td>John Goodman</td><td>2</td></tr>",
                            "<tr><td>Ingrid Thulin</td><td>2</td></tr>",
                            "<tr><td>Mahie Gill</td><td>2</td></tr>",
                            "<tr><td>Mahershala Ali</td><td>2</td></tr>",
                            "<tr><td>James Caan</td><td>2</td></tr>",
                            "<tr><td>Philip Seymour Hoffman</td><td>2</td></tr>",
                            "<tr><td>Çetin Tekindor</td><td>2</td></tr>",
                            "<tr><td>Ayushmann Khurrana</td><td>2</td></tr>",
                            "<tr><td>Bibi Andersson</td><td>2</td></tr>",
                            "<tr><td>Kang-ho Song</td><td>2</td></tr>",
                            "<tr><td>Geoffrey Rush</td><td>2</td></tr>",
                            "<tr><td>Ryan Gosling</td><td>2</td></tr>",
                            "<tr><td>Claudia Cardinale</td><td>2</td></tr>",
                            "<tr><td>Tim Roth</td><td>2</td></tr>",
                            "<tr><td>Marlene Dietrich</td><td>2</td></tr>",
                            "<tr><td>Spencer Tracy</td><td>2</td></tr>",
                            "<tr><td>Grace Kelly</td><td>2</td></tr>",
                            "<tr><td>Ryan O'Neal</td><td>2</td></tr>",
                            "<tr><td>Lee J. Cobb</td><td>2</td></tr>",
                            "<tr><td>Martin Sheen</td><td>2</td></tr>",
                            "<tr><td>Yves Montand</td><td>2</td></tr>",
                            "<tr><td>Tim Allen</td><td>2</td></tr>",
                            "<tr><td>Joseph Cotten</td><td>2</td></tr>",
                            "<tr><td>Anne Hathaway</td><td>2</td></tr>",
                            "<tr><td>Thomas Mitchell</td><td>2</td></tr>",
                            "<tr><td>Thomas Bo Larsen</td><td>2</td></tr>",
                            "<tr><td>Saif Ali Khan</td><td>2</td></tr>",
                            "<tr><td>Henry Bergman</td><td>2</td></tr>",
                            "<tr><td>Ed Harris</td><td>2</td></tr>",
                            "<tr><td>Jason Statham</td><td>2</td></tr>",
                            "<tr><td>Jim Carrey</td><td>2</td></tr>",
                            "<tr><td>Taapsee Pannu</td><td>2</td></tr>",
                            "<tr><td>Jason Robards</td><td>2</td></tr>",
                            "<tr><td>George Sanders</td><td>2</td></tr>",
                            "<tr><td>Henry Fonda</td><td>2</td></tr>",
                            "<tr><td>Faye Dunaway</td><td>2</td></tr>",
                            "<tr><td>Vin Diesel</td><td>2</td></tr>",
                            "<tr><td>Billy Dee Williams</td><td>2</td></tr>",
                            "<tr><td>Woody Harrelson</td><td>2</td></tr>",
                            "<tr><td>Boman Irani</td><td>2</td></tr>",
                            "<tr><td>Irrfan Khan</td><td>2</td></tr>",
                            "<tr><td>Emma Stone</td><td>2</td></tr>",
                            "<tr><td>Demet Akbag</td><td>2</td></tr>",
                            "<tr><td>Ben Affleck</td><td>2</td></tr>",
                            "<tr><td>Javier Bardem</td><td>2</td></tr>",
                            "<tr><td>Gael Garcia Bernal</td><td>2</td></tr>",
                            "<tr><td>Max von Sydow</td><td>2</td></tr>",
                            "<tr><td>Frances McDormand</td><td>2</td></tr>",
                            "<tr><td>James Woods</td><td>2</td></tr>",
                            "<tr><td>Cem Yilmaz</td><td>2</td></tr>",
                            "<tr><td>Kirk Douglas</td><td>2</td></tr>",
                            "<tr><td>F. Murray Abraham</td><td>2</td></tr>",
                            "<tr><td>Keira Knightley</td><td>2</td></tr>",
                            "<tr><td>Jessica Chastain</td><td>2</td></tr>",
                            "<tr><td>Anthony Quinn</td><td>2</td></tr>",
                            "<tr><td>Jay Baruchel</td><td>2</td></tr>",
                            "<tr><td>John Hurt</td><td>2</td></tr>",
                            "<tr><td>Claude Rains</td><td>2</td></tr>",
                            "<tr><td>Jean-Louis Trintignant</td><td>2</td></tr>",
                            "<tr><td>Tony Curtis</td><td>2</td></tr>",
                            "<tr><td>Christopher Plummer</td><td>2</td></tr>",
                            "<tr><td>Patrick Magee</td><td>2</td></tr>",
                            "<tr><td>Joan Allen</td><td>2</td></tr>",
                            "<tr><td>Ben Kingsley</td><td>2</td></tr>",
                            "<tr><td>Charles Bronson</td><td>2</td></tr>",
                            "<tr><td>Fred MacMurray</td><td>2</td></tr>",
                            "<tr><td>Vincent Cassel</td><td>2</td></tr>",
                            "<tr><td>Kajol</td><td>2</td></tr>",
                            "<tr><td>Clark Gable</td><td>2</td></tr>",
                            "<tr><td>Adrien Brody</td><td>2</td></tr>",
                            "<tr><td>Shahab Hosseini</td><td>2</td></tr>",
                            "<tr><td>David Carradine</td><td>2</td></tr>",
                            "<tr><td>Francois Perier</td><td>2</td></tr>",
                            "<tr><td>Prabhas</td><td>2</td></tr>",
                            "<tr><td>Ewan McGregor</td><td>2</td></tr>",
                            "<tr><td>Diane Keaton</td><td>2</td></tr>",
                            "<tr><td>Ken Watanabe</td><td>2</td></tr>",
                            "<tr><td>Anupam Kher</td><td>2</td></tr>",
                            "<tr><td>Nicole Kidman</td><td>2</td></tr>",
                            "<tr><td>Aoi Yûki</td><td>2</td></tr>",
                            "</table>"
                        ]
                    }
                }
            ],
            "execution_count": 109
        },
        {
            "cell_type": "markdown",
            "source": [
                "**Breakdown by release year:** I also wanted to the see the distribution of the movies by year. I noticed that, unsurprisingly, newer movies are overrepresented, as they tend to have a larger modern day following. As a result, I decided to increment release years by 10 until 1990, after which I decided to increment the years by 5. Unsurprisingly, the most recent decade has the most movies in the list."
            ],
            "metadata": {
                "language": "sql",
                "azdata_cell_guid": "5e062248-d89b-4c02-beeb-a385b417d4e4"
            },
            "attachments": {}
        },
        {
            "cell_type": "code",
            "source": [
                "-- Breakdown by year of release \n",
                "(SELECT '2015 - 2020' AS 'Year', COUNT(*) AS 'COUNT' FROM\n",
                "(SELECT Title, CAST(SUBSTRING(Title, LEN(Title) - 4, 4) AS int) AS 'Year'\n",
                "FROM MoviesDB.dbo.IMDBtop400) AS T\n",
                "WHERE Year > 2014)\n",
                "UNION ALL \n",
                "(SELECT '2010 - 2014' AS 'Year', COUNT(*) AS 'COUNT' FROM\n",
                "(SELECT Title, CAST(SUBSTRING(Title, LEN(Title) - 4, 4) AS int) AS 'Year'\n",
                "FROM MoviesDB.dbo.IMDBtop400) AS T\n",
                "WHERE Year > 2009 AND Year < 2015) \n",
                "UNION ALL\n",
                "(SELECT '2005 - 2009' AS 'Year', COUNT(*) AS 'COUNT' FROM\n",
                "(SELECT Title, CAST(SUBSTRING(Title, LEN(Title) - 4, 4) AS int) AS 'Year'\n",
                "FROM MoviesDB.dbo.IMDBtop400) AS T\n",
                "WHERE Year > 2004 AND Year < 2010)\n",
                "UNION ALL\n",
                "(SELECT '2000 - 2004' AS 'Year', COUNT(*) AS 'COUNT' FROM\n",
                "(SELECT Title, CAST(SUBSTRING(Title, LEN(Title) - 4, 4) AS int) AS 'Year'\n",
                "FROM MoviesDB.dbo.IMDBtop400) AS T\n",
                "WHERE Year > 1999 AND Year < 2005)\n",
                "UNION ALL\n",
                "(SELECT '1995 - 1999' AS 'Year', COUNT(*) AS 'COUNT' FROM\n",
                "(SELECT Title, CAST(SUBSTRING(Title, LEN(Title) - 4, 4) AS int) AS 'Year'\n",
                "FROM MoviesDB.dbo.IMDBtop400) AS T\n",
                "WHERE Year > 1994 AND Year < 2000)\n",
                "UNION ALL\n",
                "(SELECT '1990 - 1994' AS 'Year', COUNT(*) AS 'COUNT' FROM\n",
                "(SELECT Title, CAST(SUBSTRING(Title, LEN(Title) - 4, 4) AS int) AS 'Year'\n",
                "FROM MoviesDB.dbo.IMDBtop400) AS T\n",
                "WHERE Year > 1989 AND Year < 1995)\n",
                "UNION ALL\n",
                "SELECT '1980 - 1989' AS 'Year', COUNT(*) AS 'COUNT' FROM\n",
                "(SELECT Title, CAST(SUBSTRING(Title, LEN(Title) - 4, 4) AS int) AS 'Year'\n",
                "FROM MoviesDB.dbo.IMDBtop400) AS T\n",
                "WHERE Year > 1979 AND Year < 1990\n",
                "UNION ALL\n",
                "SELECT '1970 - 1979' AS 'Year', COUNT(*) AS 'COUNT' FROM\n",
                "(SELECT Title, CAST(SUBSTRING(Title, LEN(Title) - 4, 4) AS int) AS 'Year'\n",
                "FROM MoviesDB.dbo.IMDBtop400) AS T\n",
                "WHERE Year > 1969 AND Year < 1980\n",
                "UNION ALL\n",
                "SELECT '1960 - 1969' AS 'Year', COUNT(*) AS 'COUNT' FROM\n",
                "(SELECT Title, CAST(SUBSTRING(Title, LEN(Title) - 4, 4) AS int) AS 'Year'\n",
                "FROM MoviesDB.dbo.IMDBtop400) AS T\n",
                "WHERE Year > 1959 AND Year < 1970\n",
                "UNION ALL\n",
                "SELECT '1950 - 1959' AS 'Year', COUNT(*) AS 'COUNT' FROM\n",
                "(SELECT Title, CAST(SUBSTRING(Title, LEN(Title) - 4, 4) AS int) AS 'Year'\n",
                "FROM MoviesDB.dbo.IMDBtop400) AS T\n",
                "WHERE Year > 1949 AND Year < 1960\n",
                "UNION ALL\n",
                "SELECT '1940 - 1949' AS 'Year', COUNT(*) AS 'COUNT' FROM\n",
                "(SELECT Title, CAST(SUBSTRING(Title, LEN(Title) - 4, 4) AS int) AS 'Year'\n",
                "FROM MoviesDB.dbo.IMDBtop400) AS T\n",
                "WHERE Year > 1939 AND Year < 1950\n",
                "UNION ALL\n",
                "SELECT 'Before 1940' AS 'Year', COUNT(*) AS 'COUNT' FROM\n",
                "(SELECT Title, CAST(SUBSTRING(Title, LEN(Title) - 4, 4) AS int) AS 'Year'\n",
                "FROM MoviesDB.dbo.IMDBtop400) AS T\n",
                "WHERE Year < 1940; "
            ],
            "metadata": {
                "language": "sql",
                "azdata_cell_guid": "d6b6dabb-ca86-40e4-a4a4-88915e52fc20"
            },
            "outputs": [
                {
                    "output_type": "display_data",
                    "data": {
                        "text/html": "(12 rows affected)"
                    },
                    "metadata": {}
                },
                {
                    "output_type": "display_data",
                    "data": {
                        "text/html": "Total execution time: 00:00:00.030"
                    },
                    "metadata": {}
                },
                {
                    "output_type": "execute_result",
                    "metadata": {},
                    "execution_count": 272,
                    "data": {
                        "application/vnd.dataresource+json": {
                            "schema": {
                                "fields": [
                                    {
                                        "name": "Year"
                                    },
                                    {
                                        "name": "COUNT"
                                    }
                                ]
                            },
                            "data": [
                                {
                                    "0": "2015 - 2020",
                                    "1": "52"
                                },
                                {
                                    "0": "2010 - 2014",
                                    "1": "53"
                                },
                                {
                                    "0": "2005 - 2009",
                                    "1": "41"
                                },
                                {
                                    "0": "2000 - 2004",
                                    "1": "49"
                                },
                                {
                                    "0": "1995 - 1999",
                                    "1": "42"
                                },
                                {
                                    "0": "1990 - 1994",
                                    "1": "23"
                                },
                                {
                                    "0": "1980 - 1989",
                                    "1": "31"
                                },
                                {
                                    "0": "1970 - 1979",
                                    "1": "25"
                                },
                                {
                                    "0": "1960 - 1969",
                                    "1": "27"
                                },
                                {
                                    "0": "1950 - 1959",
                                    "1": "28"
                                },
                                {
                                    "0": "1940 - 1949",
                                    "1": "13"
                                },
                                {
                                    "0": "Before 1940",
                                    "1": "16"
                                }
                            ]
                        },
                        "text/html": [
                            "<table>",
                            "<tr><th>Year</th><th>COUNT</th></tr>",
                            "<tr><td>2015 - 2020</td><td>52</td></tr>",
                            "<tr><td>2010 - 2014</td><td>53</td></tr>",
                            "<tr><td>2005 - 2009</td><td>41</td></tr>",
                            "<tr><td>2000 - 2004</td><td>49</td></tr>",
                            "<tr><td>1995 - 1999</td><td>42</td></tr>",
                            "<tr><td>1990 - 1994</td><td>23</td></tr>",
                            "<tr><td>1980 - 1989</td><td>31</td></tr>",
                            "<tr><td>1970 - 1979</td><td>25</td></tr>",
                            "<tr><td>1960 - 1969</td><td>27</td></tr>",
                            "<tr><td>1950 - 1959</td><td>28</td></tr>",
                            "<tr><td>1940 - 1949</td><td>13</td></tr>",
                            "<tr><td>Before 1940</td><td>16</td></tr>",
                            "</table>"
                        ]
                    }
                }
            ],
            "execution_count": 272
        }
    ]
}